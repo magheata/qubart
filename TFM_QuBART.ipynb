{
 "cells": [
  {
   "cell_type": "markdown",
   "id": "842ec5c9",
   "metadata": {},
   "source": [
    "# **Trabajo de Fin de Máster**"
   ]
  },
  {
   "cell_type": "markdown",
   "id": "e00f332e",
   "metadata": {},
   "source": [
    "# **1. Imports**"
   ]
  },
  {
   "cell_type": "code",
   "execution_count": 1,
   "id": "40a691c6",
   "metadata": {},
   "outputs": [
    {
     "data": {
      "text/html": [
       "        <script type=\"text/javascript\">\n",
       "        window.PlotlyConfig = {MathJaxConfig: 'local'};\n",
       "        if (window.MathJax) {MathJax.Hub.Config({SVG: {font: \"STIX-Web\"}});}\n",
       "        if (typeof require !== 'undefined') {\n",
       "        require.undef(\"plotly\");\n",
       "        requirejs.config({\n",
       "            paths: {\n",
       "                'plotly': ['https://cdn.plot.ly/plotly-2.2.0.min']\n",
       "            }\n",
       "        });\n",
       "        require(['plotly'], function(Plotly) {\n",
       "            window._Plotly = Plotly;\n",
       "        });\n",
       "        }\n",
       "        </script>\n",
       "        "
      ]
     },
     "metadata": {},
     "output_type": "display_data"
    }
   ],
   "source": [
    "from transformers import AutoTokenizer, AutoModelForSeq2SeqLM, AutoModel\n",
    "\n",
    "from datasets import load_dataset\n",
    "\n",
    "import torch \n",
    "\n",
    "# Usual imports\n",
    "import numpy as np\n",
    "import pandas as pd\n",
    "from tqdm import tqdm\n",
    "import string\n",
    "import matplotlib.pyplot as plt\n",
    "from sklearn.decomposition import NMF, LatentDirichletAllocation, TruncatedSVD\n",
    "from sklearn.feature_extraction.text import CountVectorizer\n",
    "from sklearn.manifold import TSNE\n",
    "import concurrent.futures\n",
    "import time\n",
    "import pyLDAvis.sklearn\n",
    "from pylab import bone, pcolor, colorbar, plot, show, rcParams, savefig\n",
    "import warnings\n",
    "warnings.filterwarnings('ignore')\n",
    "\n",
    "%matplotlib inline\n",
    "import os\n",
    "\n",
    "# Plotly based imports for visualization\n",
    "from plotly import tools\n",
    "import chart_studio.plotly as py\n",
    "from plotly.offline import init_notebook_mode, iplot\n",
    "init_notebook_mode(connected=True)\n",
    "import plotly.graph_objs as go\n",
    "import plotly.figure_factory as ff\n",
    "\n",
    "# spaCy based imports\n",
    "import spacy\n",
    "from spacy.lang.en.stop_words import STOP_WORDS\n",
    "from spacy.lang.en import English\n",
    "from spacy import displacy"
   ]
  },
  {
   "cell_type": "markdown",
   "id": "6f665e44",
   "metadata": {},
   "source": [
    "# **2. Definición de funciones**"
   ]
  },
  {
   "cell_type": "markdown",
   "id": "d04f21d2",
   "metadata": {},
   "source": [
    "## **2.1. Carga del texto de entrada**"
   ]
  },
  {
   "cell_type": "code",
   "execution_count": 2,
   "id": "0d89213e",
   "metadata": {},
   "outputs": [],
   "source": [
    "def load_corpus(data_files, ext_type='csv'):\n",
    "    '''\n",
    "    '''\n",
    "    return load_dataset(ext_type, data_files=data_files)"
   ]
  },
  {
   "cell_type": "code",
   "execution_count": 3,
   "id": "32e05817",
   "metadata": {},
   "outputs": [],
   "source": [
    "def filter_corpus(corpus, element, filter_with):\n",
    "    '''\n",
    "    '''\n",
    "    return corpus.filter(lambda filtered_corpus: filtered_corpus[element].startswith(filter_with))"
   ]
  },
  {
   "cell_type": "code",
   "execution_count": 4,
   "id": "5b7731ed",
   "metadata": {},
   "outputs": [],
   "source": [
    "def get_script_episode(corpus, season, episode):\n",
    "    '''\n",
    "    '''\n",
    "    data_season = filter_corpus(corpus,'Season', season)\n",
    "    return filter_corpus(data_season,'Episode', episode)"
   ]
  },
  {
   "cell_type": "code",
   "execution_count": 5,
   "id": "439b0e05",
   "metadata": {},
   "outputs": [],
   "source": [
    "def get_full_text(input_text):\n",
    "    return ''.join(input_text)"
   ]
  },
  {
   "cell_type": "markdown",
   "id": "0e8fb9de",
   "metadata": {},
   "source": [
    "## **2.2. Procesamiento del texto de entrada**"
   ]
  },
  {
   "cell_type": "code",
   "execution_count": 6,
   "id": "8478cff2",
   "metadata": {},
   "outputs": [],
   "source": [
    "def get_summary(input_text, model_name='sshleifer/distilbart-cnn-12-6'):\n",
    "    '''\n",
    "    Models: \"sshleifer/distilbart-xsum-12-3\", \"google/pegasus-xsum\"\n",
    "    '''\n",
    "    tokenizer = AutoTokenizer.from_pretrained(model_name)\n",
    "    model = AutoModelForSeq2SeqLM.from_pretrained(model_name)\n",
    "    # encode input context\n",
    "    input_ids = tokenizer(input_text, truncation=True, padding=True, return_tensors=\"pt\").input_ids\n",
    "    # generate summary\n",
    "    outputs = model.generate(input_ids=input_ids)\n",
    "    # decode summary \n",
    "    return tokenizer.batch_decode(outputs, skip_special_tokens=True)"
   ]
  },
  {
   "cell_type": "code",
   "execution_count": 7,
   "id": "83389d88",
   "metadata": {},
   "outputs": [],
   "source": [
    "def show_entities(input_text):\n",
    "    displacy.render(nlp(input_text), style=\"ent\")"
   ]
  },
  {
   "cell_type": "code",
   "execution_count": 8,
   "id": "a07571e6",
   "metadata": {},
   "outputs": [],
   "source": [
    "def spacy_tokenizer(sentence):\n",
    "    parser = English()\n",
    "    mytokens = parser(sentence)\n",
    "    mytokens = [word.lower_ for word in mytokens]\n",
    "    #mytokens = [word.lemma_.lower().strip() if word.lemma_ != \"PRON\" else word.lower_ for word in mytokens]\n",
    "    mytokens = [word for word in mytokens if word not in stopwords and word not in punctuations]\n",
    "    mytokens = \" \".join([i for i in mytokens])\n",
    "    return mytokens"
   ]
  },
  {
   "cell_type": "markdown",
   "id": "c548e3f8",
   "metadata": {},
   "source": [
    "# **3. Procesamiento de un script de ejemplo de _Game of Thrones_**\n",
    "\n",
    "*Source: https://www.kaggle.com/thebrownviking20/topic-modelling-with-spacy-and-scikit-learn/notebook?select=winemag-data_first150k.csv*"
   ]
  },
  {
   "cell_type": "code",
   "execution_count": 9,
   "id": "aec92af5",
   "metadata": {},
   "outputs": [
    {
     "name": "stderr",
     "output_type": "stream",
     "text": [
      "Using custom data configuration default-6267e762714f0fd0\n",
      "Reusing dataset csv (/Users/andreea/.cache/huggingface/datasets/csv/default-6267e762714f0fd0/0.0.0/9144e0a4e8435090117cea53e6c7537173ef2304525df4a077c435d8ee7828ff)\n",
      "Loading cached processed dataset at /Users/andreea/.cache/huggingface/datasets/csv/default-6267e762714f0fd0/0.0.0/9144e0a4e8435090117cea53e6c7537173ef2304525df4a077c435d8ee7828ff/cache-05842c71d6ab9f3e.arrow\n",
      "Loading cached processed dataset at /Users/andreea/.cache/huggingface/datasets/csv/default-6267e762714f0fd0/0.0.0/9144e0a4e8435090117cea53e6c7537173ef2304525df4a077c435d8ee7828ff/cache-80a1cce4dbd0b731.arrow\n",
      "Loading cached processed dataset at /Users/andreea/.cache/huggingface/datasets/csv/default-6267e762714f0fd0/0.0.0/9144e0a4e8435090117cea53e6c7537173ef2304525df4a077c435d8ee7828ff/cache-05842c71d6ab9f3e.arrow\n",
      "Loading cached processed dataset at /Users/andreea/.cache/huggingface/datasets/csv/default-6267e762714f0fd0/0.0.0/9144e0a4e8435090117cea53e6c7537173ef2304525df4a077c435d8ee7828ff/cache-80a1cce4dbd0b731.arrow\n",
      "Using custom data configuration default-7568e6303835c9eb\n",
      "Reusing dataset csv (/Users/andreea/.cache/huggingface/datasets/csv/default-7568e6303835c9eb/0.0.0/9144e0a4e8435090117cea53e6c7537173ef2304525df4a077c435d8ee7828ff)\n"
     ]
    }
   ],
   "source": [
    "# Loading data\n",
    "corpus = load_corpus(\"qubartCode/corpus/Game_Of_Thrones_Script.csv\")['train']\n",
    "s1_ep2 = get_full_text(get_script_episode(corpus, 'Season 1', 'Episode 2')['Sentence'])\n",
    "s1_ep2_names = ''\n",
    "for row in get_script_episode(corpus, 'Season 1', 'Episode 2'):\n",
    "    line = f\"{row['Name'].capitalize()}: {row['Sentence']}\"\n",
    "    s1_ep2_names = s1_ep2_names + \" \" + line\n",
    "corpus_reviews = load_corpus(\"qubartCode/corpus/GameOfThrones_Reviews.csv\")['train']"
   ]
  },
  {
   "cell_type": "code",
   "execution_count": 10,
   "id": "53be68ed",
   "metadata": {},
   "outputs": [
    {
     "data": {
      "text/plain": [
       "'The death of Jon Arryn (John Standing), who serves as the Hand of the King, brings King Robert Baratheon (Mark Addy) and the Lannister clan north to visit the Starks at Winterfell. It doesn’t take long for things to sour once the royal entourage arrives. From the moment Robert demands to pay his respects to Ned Stark’s (Sean Bean) late sister, Lyanna Stark (Aisling Franciosi), in the crypts, it’s clear there are some unresolved issues between the three families — something that becomes even more obvious when Jaime Lannister (Nikolaj Coster-Waldau) pushes Bran Stark (Isaac Hempstead Wright) out of a window for walking in on him with his twin sister, Cersei Lannister (Lena Headey).Meanwhile, the White Walkers make their presence known beyond the Wall, while across the Narrow Sea, Daenerys Targaryen (Emilia Clarke) is given three dragon eggs at her wedding to Dothraki warlord Khal Drogo (Jason Momoa).'"
      ]
     },
     "execution_count": 10,
     "metadata": {},
     "output_type": "execute_result"
    }
   ],
   "source": [
    "corpus_reviews['Episode recap'][0]"
   ]
  },
  {
   "cell_type": "code",
   "execution_count": 11,
   "id": "29c0b12a",
   "metadata": {},
   "outputs": [
    {
     "data": {
      "text/plain": [
       "Dataset({\n",
       "    features: ['Release Date', 'Season', 'Episode', 'Episode Title', 'Name', 'Sentence'],\n",
       "    num_rows: 23911\n",
       "})"
      ]
     },
     "execution_count": 11,
     "metadata": {},
     "output_type": "execute_result"
    }
   ],
   "source": [
    "corpus"
   ]
  },
  {
   "cell_type": "code",
   "execution_count": 12,
   "id": "027ce1ea",
   "metadata": {},
   "outputs": [],
   "source": [
    "nlp = spacy.load(\"en_core_web_sm\")"
   ]
  },
  {
   "cell_type": "code",
   "execution_count": 13,
   "id": "8b12b6a5",
   "metadata": {},
   "outputs": [],
   "source": [
    "# Creating a spaCy object\n",
    "nlp = spacy.load('en_core_web_lg')"
   ]
  },
  {
   "cell_type": "code",
   "execution_count": 14,
   "id": "7afa4199",
   "metadata": {
    "tags": []
   },
   "outputs": [
    {
     "data": {
      "text/html": [
       "<span class=\"tex2jax_ignore\"><div class=\"entities\" style=\"line-height: 2.5; direction: ltr\">Although \n",
       "<mark class=\"entity\" style=\"background: #aa9cfc; padding: 0.45em 0.6em; margin: 0 0.25em; line-height: 1; border-radius: 0.35em;\">\n",
       "    Jon Snow\n",
       "    <span style=\"font-size: 0.8em; font-weight: bold; line-height: 1; border-radius: 0.35em; vertical-align: middle; margin-left: 0.5rem\">PERSON</span>\n",
       "</mark>\n",
       " (\n",
       "<mark class=\"entity\" style=\"background: #aa9cfc; padding: 0.45em 0.6em; margin: 0 0.25em; line-height: 1; border-radius: 0.35em;\">\n",
       "    Kit Harington\n",
       "    <span style=\"font-size: 0.8em; font-weight: bold; line-height: 1; border-radius: 0.35em; vertical-align: middle; margin-left: 0.5rem\">PERSON</span>\n",
       "</mark>\n",
       "), who we know as the illegitimate son of \n",
       "<mark class=\"entity\" style=\"background: #aa9cfc; padding: 0.45em 0.6em; margin: 0 0.25em; line-height: 1; border-radius: 0.35em;\">\n",
       "    Ned\n",
       "    <span style=\"font-size: 0.8em; font-weight: bold; line-height: 1; border-radius: 0.35em; vertical-align: middle; margin-left: 0.5rem\">PERSON</span>\n",
       "</mark>\n",
       " and a random, unknown woman, was introduced in the pilot, his storyline doesn’t really pick up until the \n",
       "<mark class=\"entity\" style=\"background: #e4e7d2; padding: 0.45em 0.6em; margin: 0 0.25em; line-height: 1; border-radius: 0.35em;\">\n",
       "    second\n",
       "    <span style=\"font-size: 0.8em; font-weight: bold; line-height: 1; border-radius: 0.35em; vertical-align: middle; margin-left: 0.5rem\">ORDINAL</span>\n",
       "</mark>\n",
       " episode. After gifting his \n",
       "<mark class=\"entity\" style=\"background: #e4e7d2; padding: 0.45em 0.6em; margin: 0 0.25em; line-height: 1; border-radius: 0.35em;\">\n",
       "    half\n",
       "    <span style=\"font-size: 0.8em; font-weight: bold; line-height: 1; border-radius: 0.35em; vertical-align: middle; margin-left: 0.5rem\">CARDINAL</span>\n",
       "</mark>\n",
       "-sister \n",
       "<mark class=\"entity\" style=\"background: #aa9cfc; padding: 0.45em 0.6em; margin: 0 0.25em; line-height: 1; border-radius: 0.35em;\">\n",
       "    Arya\n",
       "    <span style=\"font-size: 0.8em; font-weight: bold; line-height: 1; border-radius: 0.35em; vertical-align: middle; margin-left: 0.5rem\">PERSON</span>\n",
       "</mark>\n",
       " (\n",
       "<mark class=\"entity\" style=\"background: #aa9cfc; padding: 0.45em 0.6em; margin: 0 0.25em; line-height: 1; border-radius: 0.35em;\">\n",
       "    Maisie Williams\n",
       "    <span style=\"font-size: 0.8em; font-weight: bold; line-height: 1; border-radius: 0.35em; vertical-align: middle; margin-left: 0.5rem\">PERSON</span>\n",
       "</mark>\n",
       ") with a small sword that she dubs “Needle,” \n",
       "<mark class=\"entity\" style=\"background: #aa9cfc; padding: 0.45em 0.6em; margin: 0 0.25em; line-height: 1; border-radius: 0.35em;\">\n",
       "    Jon\n",
       "    <span style=\"font-size: 0.8em; font-weight: bold; line-height: 1; border-radius: 0.35em; vertical-align: middle; margin-left: 0.5rem\">PERSON</span>\n",
       "</mark>\n",
       " leaves for the Wall, a \n",
       "<mark class=\"entity\" style=\"background: #e4e7d2; padding: 0.45em 0.6em; margin: 0 0.25em; line-height: 1; border-radius: 0.35em;\">\n",
       "    700-foot\n",
       "    <span style=\"font-size: 0.8em; font-weight: bold; line-height: 1; border-radius: 0.35em; vertical-align: middle; margin-left: 0.5rem\">QUANTITY</span>\n",
       "</mark>\n",
       " tall, \n",
       "<mark class=\"entity\" style=\"background: #e4e7d2; padding: 0.45em 0.6em; margin: 0 0.25em; line-height: 1; border-radius: 0.35em;\">\n",
       "    300-foot\n",
       "    <span style=\"font-size: 0.8em; font-weight: bold; line-height: 1; border-radius: 0.35em; vertical-align: middle; margin-left: 0.5rem\">QUANTITY</span>\n",
       "</mark>\n",
       " thick barrier of ice that spans \n",
       "<mark class=\"entity\" style=\"background: #e4e7d2; padding: 0.45em 0.6em; margin: 0 0.25em; line-height: 1; border-radius: 0.35em;\">\n",
       "    all 300 miles\n",
       "    <span style=\"font-size: 0.8em; font-weight: bold; line-height: 1; border-radius: 0.35em; vertical-align: middle; margin-left: 0.5rem\">QUANTITY</span>\n",
       "</mark>\n",
       " of \n",
       "<mark class=\"entity\" style=\"background: #7aecec; padding: 0.45em 0.6em; margin: 0 0.25em; line-height: 1; border-radius: 0.35em;\">\n",
       "    Westeros’\n",
       "    <span style=\"font-size: 0.8em; font-weight: bold; line-height: 1; border-radius: 0.35em; vertical-align: middle; margin-left: 0.5rem\">ORG</span>\n",
       "</mark>\n",
       " northern border, with his \n",
       "<mark class=\"entity\" style=\"background: #aa9cfc; padding: 0.45em 0.6em; margin: 0 0.25em; line-height: 1; border-radius: 0.35em;\">\n",
       "    Uncle Benjen\n",
       "    <span style=\"font-size: 0.8em; font-weight: bold; line-height: 1; border-radius: 0.35em; vertical-align: middle; margin-left: 0.5rem\">PERSON</span>\n",
       "</mark>\n",
       " (\n",
       "<mark class=\"entity\" style=\"background: #aa9cfc; padding: 0.45em 0.6em; margin: 0 0.25em; line-height: 1; border-radius: 0.35em;\">\n",
       "    Joseph Mawle\n",
       "    <span style=\"font-size: 0.8em; font-weight: bold; line-height: 1; border-radius: 0.35em; vertical-align: middle; margin-left: 0.5rem\">PERSON</span>\n",
       "</mark>\n",
       ") and \n",
       "<mark class=\"entity\" style=\"background: #aa9cfc; padding: 0.45em 0.6em; margin: 0 0.25em; line-height: 1; border-radius: 0.35em;\">\n",
       "    Tyrion Lannister\n",
       "    <span style=\"font-size: 0.8em; font-weight: bold; line-height: 1; border-radius: 0.35em; vertical-align: middle; margin-left: 0.5rem\">PERSON</span>\n",
       "</mark>\n",
       " (\n",
       "<mark class=\"entity\" style=\"background: #aa9cfc; padding: 0.45em 0.6em; margin: 0 0.25em; line-height: 1; border-radius: 0.35em;\">\n",
       "    Peter Dinklage\n",
       "    <span style=\"font-size: 0.8em; font-weight: bold; line-height: 1; border-radius: 0.35em; vertical-align: middle; margin-left: 0.5rem\">PERSON</span>\n",
       "</mark>\n",
       ").</br></br>\n",
       "<mark class=\"entity\" style=\"background: #aa9cfc; padding: 0.45em 0.6em; margin: 0 0.25em; line-height: 1; border-radius: 0.35em;\">\n",
       "    Jon\n",
       "    <span style=\"font-size: 0.8em; font-weight: bold; line-height: 1; border-radius: 0.35em; vertical-align: middle; margin-left: 0.5rem\">PERSON</span>\n",
       "</mark>\n",
       " intends to join \n",
       "<mark class=\"entity\" style=\"background: #7aecec; padding: 0.45em 0.6em; margin: 0 0.25em; line-height: 1; border-radius: 0.35em;\">\n",
       "    the Night’s Watch\n",
       "    <span style=\"font-size: 0.8em; font-weight: bold; line-height: 1; border-radius: 0.35em; vertical-align: middle; margin-left: 0.5rem\">ORG</span>\n",
       "</mark>\n",
       ", an order of men who guard the Wall and protect the \n",
       "<mark class=\"entity\" style=\"background: #e4e7d2; padding: 0.45em 0.6em; margin: 0 0.25em; line-height: 1; border-radius: 0.35em;\">\n",
       "    Seven\n",
       "    <span style=\"font-size: 0.8em; font-weight: bold; line-height: 1; border-radius: 0.35em; vertical-align: middle; margin-left: 0.5rem\">CARDINAL</span>\n",
       "</mark>\n",
       " Kingdoms from invaders. But \n",
       "<mark class=\"entity\" style=\"background: #e4e7d2; padding: 0.45em 0.6em; margin: 0 0.25em; line-height: 1; border-radius: 0.35em;\">\n",
       "    first\n",
       "    <span style=\"font-size: 0.8em; font-weight: bold; line-height: 1; border-radius: 0.35em; vertical-align: middle; margin-left: 0.5rem\">ORDINAL</span>\n",
       "</mark>\n",
       ", he makes \n",
       "<mark class=\"entity\" style=\"background: #e4e7d2; padding: 0.45em 0.6em; margin: 0 0.25em; line-height: 1; border-radius: 0.35em;\">\n",
       "    one\n",
       "    <span style=\"font-size: 0.8em; font-weight: bold; line-height: 1; border-radius: 0.35em; vertical-align: middle; margin-left: 0.5rem\">CARDINAL</span>\n",
       "</mark>\n",
       " last (unsuccessful) attempt to question \n",
       "<mark class=\"entity\" style=\"background: #aa9cfc; padding: 0.45em 0.6em; margin: 0 0.25em; line-height: 1; border-radius: 0.35em;\">\n",
       "    Ned\n",
       "    <span style=\"font-size: 0.8em; font-weight: bold; line-height: 1; border-radius: 0.35em; vertical-align: middle; margin-left: 0.5rem\">PERSON</span>\n",
       "</mark>\n",
       " about the identity of his mother ahead of \n",
       "<mark class=\"entity\" style=\"background: #aa9cfc; padding: 0.45em 0.6em; margin: 0 0.25em; line-height: 1; border-radius: 0.35em;\">\n",
       "    Ned\n",
       "    <span style=\"font-size: 0.8em; font-weight: bold; line-height: 1; border-radius: 0.35em; vertical-align: middle; margin-left: 0.5rem\">PERSON</span>\n",
       "</mark>\n",
       "’s departure for King’s Landing.While traveling south with their father, \n",
       "<mark class=\"entity\" style=\"background: #aa9cfc; padding: 0.45em 0.6em; margin: 0 0.25em; line-height: 1; border-radius: 0.35em;\">\n",
       "    Arya\n",
       "    <span style=\"font-size: 0.8em; font-weight: bold; line-height: 1; border-radius: 0.35em; vertical-align: middle; margin-left: 0.5rem\">PERSON</span>\n",
       "</mark>\n",
       " and \n",
       "<mark class=\"entity\" style=\"background: #aa9cfc; padding: 0.45em 0.6em; margin: 0 0.25em; line-height: 1; border-radius: 0.35em;\">\n",
       "    Sansa Stark\n",
       "    <span style=\"font-size: 0.8em; font-weight: bold; line-height: 1; border-radius: 0.35em; vertical-align: middle; margin-left: 0.5rem\">PERSON</span>\n",
       "</mark>\n",
       " (\n",
       "<mark class=\"entity\" style=\"background: #aa9cfc; padding: 0.45em 0.6em; margin: 0 0.25em; line-height: 1; border-radius: 0.35em;\">\n",
       "    Sophie Turner\n",
       "    <span style=\"font-size: 0.8em; font-weight: bold; line-height: 1; border-radius: 0.35em; vertical-align: middle; margin-left: 0.5rem\">PERSON</span>\n",
       "</mark>\n",
       ") find themselves in the midst of an altercation with \n",
       "<mark class=\"entity\" style=\"background: #aa9cfc; padding: 0.45em 0.6em; margin: 0 0.25em; line-height: 1; border-radius: 0.35em;\">\n",
       "    Prince Joffrey Baratheon\n",
       "    <span style=\"font-size: 0.8em; font-weight: bold; line-height: 1; border-radius: 0.35em; vertical-align: middle; margin-left: 0.5rem\">PERSON</span>\n",
       "</mark>\n",
       " (\n",
       "<mark class=\"entity\" style=\"background: #aa9cfc; padding: 0.45em 0.6em; margin: 0 0.25em; line-height: 1; border-radius: 0.35em;\">\n",
       "    Jack Gleeson\n",
       "    <span style=\"font-size: 0.8em; font-weight: bold; line-height: 1; border-radius: 0.35em; vertical-align: middle; margin-left: 0.5rem\">PERSON</span>\n",
       "</mark>\n",
       ") that leads to the deaths of both \n",
       "<mark class=\"entity\" style=\"background: #aa9cfc; padding: 0.45em 0.6em; margin: 0 0.25em; line-height: 1; border-radius: 0.35em;\">\n",
       "    Arya\n",
       "    <span style=\"font-size: 0.8em; font-weight: bold; line-height: 1; border-radius: 0.35em; vertical-align: middle; margin-left: 0.5rem\">PERSON</span>\n",
       "</mark>\n",
       "’s friend \n",
       "<mark class=\"entity\" style=\"background: #aa9cfc; padding: 0.45em 0.6em; margin: 0 0.25em; line-height: 1; border-radius: 0.35em;\">\n",
       "    Mycah\n",
       "    <span style=\"font-size: 0.8em; font-weight: bold; line-height: 1; border-radius: 0.35em; vertical-align: middle; margin-left: 0.5rem\">PERSON</span>\n",
       "</mark>\n",
       " (\n",
       "<mark class=\"entity\" style=\"background: #aa9cfc; padding: 0.45em 0.6em; margin: 0 0.25em; line-height: 1; border-radius: 0.35em;\">\n",
       "    Rhodri Hosking\n",
       "    <span style=\"font-size: 0.8em; font-weight: bold; line-height: 1; border-radius: 0.35em; vertical-align: middle; margin-left: 0.5rem\">PERSON</span>\n",
       "</mark>\n",
       "), the butcher’s boy, and \n",
       "<mark class=\"entity\" style=\"background: #7aecec; padding: 0.45em 0.6em; margin: 0 0.25em; line-height: 1; border-radius: 0.35em;\">\n",
       "    Sansa\n",
       "    <span style=\"font-size: 0.8em; font-weight: bold; line-height: 1; border-radius: 0.35em; vertical-align: middle; margin-left: 0.5rem\">ORG</span>\n",
       "</mark>\n",
       "’s direwolf, \n",
       "<mark class=\"entity\" style=\"background: #aa9cfc; padding: 0.45em 0.6em; margin: 0 0.25em; line-height: 1; border-radius: 0.35em;\">\n",
       "    Lady\n",
       "    <span style=\"font-size: 0.8em; font-weight: bold; line-height: 1; border-radius: 0.35em; vertical-align: middle; margin-left: 0.5rem\">PERSON</span>\n",
       "</mark>\n",
       ". Luckily, \n",
       "<mark class=\"entity\" style=\"background: #aa9cfc; padding: 0.45em 0.6em; margin: 0 0.25em; line-height: 1; border-radius: 0.35em;\">\n",
       "    Arya\n",
       "    <span style=\"font-size: 0.8em; font-weight: bold; line-height: 1; border-radius: 0.35em; vertical-align: middle; margin-left: 0.5rem\">PERSON</span>\n",
       "</mark>\n",
       " is able to set her own direwolf, \n",
       "<mark class=\"entity\" style=\"background: #feca74; padding: 0.45em 0.6em; margin: 0 0.25em; line-height: 1; border-radius: 0.35em;\">\n",
       "    Nymeria\n",
       "    <span style=\"font-size: 0.8em; font-weight: bold; line-height: 1; border-radius: 0.35em; vertical-align: middle; margin-left: 0.5rem\">GPE</span>\n",
       "</mark>\n",
       ", loose in the wild before any harm can come to her. Elsewhere, \n",
       "<mark class=\"entity\" style=\"background: #7aecec; padding: 0.45em 0.6em; margin: 0 0.25em; line-height: 1; border-radius: 0.35em;\">\n",
       "    Daenerys\n",
       "    <span style=\"font-size: 0.8em; font-weight: bold; line-height: 1; border-radius: 0.35em; vertical-align: middle; margin-left: 0.5rem\">ORG</span>\n",
       "</mark>\n",
       " finds a way to connect with her new husband and \n",
       "<mark class=\"entity\" style=\"background: #aa9cfc; padding: 0.45em 0.6em; margin: 0 0.25em; line-height: 1; border-radius: 0.35em;\">\n",
       "    Bran\n",
       "    <span style=\"font-size: 0.8em; font-weight: bold; line-height: 1; border-radius: 0.35em; vertical-align: middle; margin-left: 0.5rem\">PERSON</span>\n",
       "</mark>\n",
       " wakes up from the coma he has been in for \n",
       "<mark class=\"entity\" style=\"background: #bfe1d9; padding: 0.45em 0.6em; margin: 0 0.25em; line-height: 1; border-radius: 0.35em;\">\n",
       "    over a month\n",
       "    <span style=\"font-size: 0.8em; font-weight: bold; line-height: 1; border-radius: 0.35em; vertical-align: middle; margin-left: 0.5rem\">DATE</span>\n",
       "</mark>\n",
       ".</div></span>"
      ],
      "text/plain": [
       "<IPython.core.display.HTML object>"
      ]
     },
     "metadata": {},
     "output_type": "display_data"
    }
   ],
   "source": [
    "doc = nlp(corpus_reviews['Episode recap'][1])\n",
    "spacy.displacy.render(doc, style='ent',jupyter=True)"
   ]
  },
  {
   "cell_type": "code",
   "execution_count": 15,
   "id": "2880ef52",
   "metadata": {},
   "outputs": [],
   "source": [
    "punctuations = string.punctuation\n",
    "stopwords = list(STOP_WORDS)"
   ]
  },
  {
   "cell_type": "code",
   "execution_count": 16,
   "id": "6b2995c4",
   "metadata": {},
   "outputs": [],
   "source": [
    "review = str(\" \".join([i.lemma_ for i in doc]))"
   ]
  },
  {
   "cell_type": "code",
   "execution_count": 17,
   "id": "d752db49",
   "metadata": {
    "tags": []
   },
   "outputs": [
    {
     "data": {
      "text/html": [
       "<span class=\"tex2jax_ignore\"><div class=\"entities\" style=\"line-height: 2.5; direction: ltr\">although \n",
       "<mark class=\"entity\" style=\"background: #aa9cfc; padding: 0.45em 0.6em; margin: 0 0.25em; line-height: 1; border-radius: 0.35em;\">\n",
       "    Jon Snow\n",
       "    <span style=\"font-size: 0.8em; font-weight: bold; line-height: 1; border-radius: 0.35em; vertical-align: middle; margin-left: 0.5rem\">PERSON</span>\n",
       "</mark>\n",
       " ( \n",
       "<mark class=\"entity\" style=\"background: #aa9cfc; padding: 0.45em 0.6em; margin: 0 0.25em; line-height: 1; border-radius: 0.35em;\">\n",
       "    Kit Harington\n",
       "    <span style=\"font-size: 0.8em; font-weight: bold; line-height: 1; border-radius: 0.35em; vertical-align: middle; margin-left: 0.5rem\">PERSON</span>\n",
       "</mark>\n",
       " ) , who we know as the illegitimate son of \n",
       "<mark class=\"entity\" style=\"background: #aa9cfc; padding: 0.45em 0.6em; margin: 0 0.25em; line-height: 1; border-radius: 0.35em;\">\n",
       "    Ned\n",
       "    <span style=\"font-size: 0.8em; font-weight: bold; line-height: 1; border-radius: 0.35em; vertical-align: middle; margin-left: 0.5rem\">PERSON</span>\n",
       "</mark>\n",
       " and a random , unknown woman , be introduce in the pilot , his storyline do n’t really pick up until the \n",
       "<mark class=\"entity\" style=\"background: #e4e7d2; padding: 0.45em 0.6em; margin: 0 0.25em; line-height: 1; border-radius: 0.35em;\">\n",
       "    second\n",
       "    <span style=\"font-size: 0.8em; font-weight: bold; line-height: 1; border-radius: 0.35em; vertical-align: middle; margin-left: 0.5rem\">ORDINAL</span>\n",
       "</mark>\n",
       " episode . after gift his \n",
       "<mark class=\"entity\" style=\"background: #e4e7d2; padding: 0.45em 0.6em; margin: 0 0.25em; line-height: 1; border-radius: 0.35em;\">\n",
       "    half\n",
       "    <span style=\"font-size: 0.8em; font-weight: bold; line-height: 1; border-radius: 0.35em; vertical-align: middle; margin-left: 0.5rem\">CARDINAL</span>\n",
       "</mark>\n",
       " - sister \n",
       "<mark class=\"entity\" style=\"background: #aa9cfc; padding: 0.45em 0.6em; margin: 0 0.25em; line-height: 1; border-radius: 0.35em;\">\n",
       "    Arya\n",
       "    <span style=\"font-size: 0.8em; font-weight: bold; line-height: 1; border-radius: 0.35em; vertical-align: middle; margin-left: 0.5rem\">PERSON</span>\n",
       "</mark>\n",
       " ( \n",
       "<mark class=\"entity\" style=\"background: #aa9cfc; padding: 0.45em 0.6em; margin: 0 0.25em; line-height: 1; border-radius: 0.35em;\">\n",
       "    Maisie Williams\n",
       "    <span style=\"font-size: 0.8em; font-weight: bold; line-height: 1; border-radius: 0.35em; vertical-align: middle; margin-left: 0.5rem\">PERSON</span>\n",
       "</mark>\n",
       " ) with a small sword that she dub &quot; Needle , &quot; \n",
       "<mark class=\"entity\" style=\"background: #aa9cfc; padding: 0.45em 0.6em; margin: 0 0.25em; line-height: 1; border-radius: 0.35em;\">\n",
       "    Jon\n",
       "    <span style=\"font-size: 0.8em; font-weight: bold; line-height: 1; border-radius: 0.35em; vertical-align: middle; margin-left: 0.5rem\">PERSON</span>\n",
       "</mark>\n",
       " leave for the Wall , a \n",
       "<mark class=\"entity\" style=\"background: #e4e7d2; padding: 0.45em 0.6em; margin: 0 0.25em; line-height: 1; border-radius: 0.35em;\">\n",
       "    700 - foot\n",
       "    <span style=\"font-size: 0.8em; font-weight: bold; line-height: 1; border-radius: 0.35em; vertical-align: middle; margin-left: 0.5rem\">QUANTITY</span>\n",
       "</mark>\n",
       " tall , \n",
       "<mark class=\"entity\" style=\"background: #e4e7d2; padding: 0.45em 0.6em; margin: 0 0.25em; line-height: 1; border-radius: 0.35em;\">\n",
       "    300 - foot\n",
       "    <span style=\"font-size: 0.8em; font-weight: bold; line-height: 1; border-radius: 0.35em; vertical-align: middle; margin-left: 0.5rem\">QUANTITY</span>\n",
       "</mark>\n",
       " thick barrier of ice that span \n",
       "<mark class=\"entity\" style=\"background: #e4e7d2; padding: 0.45em 0.6em; margin: 0 0.25em; line-height: 1; border-radius: 0.35em;\">\n",
       "    all 300 mile\n",
       "    <span style=\"font-size: 0.8em; font-weight: bold; line-height: 1; border-radius: 0.35em; vertical-align: middle; margin-left: 0.5rem\">QUANTITY</span>\n",
       "</mark>\n",
       " of \n",
       "<mark class=\"entity\" style=\"background: #7aecec; padding: 0.45em 0.6em; margin: 0 0.25em; line-height: 1; border-radius: 0.35em;\">\n",
       "    Westeros ’\n",
       "    <span style=\"font-size: 0.8em; font-weight: bold; line-height: 1; border-radius: 0.35em; vertical-align: middle; margin-left: 0.5rem\">ORG</span>\n",
       "</mark>\n",
       " northern border , with his \n",
       "<mark class=\"entity\" style=\"background: #aa9cfc; padding: 0.45em 0.6em; margin: 0 0.25em; line-height: 1; border-radius: 0.35em;\">\n",
       "    Uncle Benjen\n",
       "    <span style=\"font-size: 0.8em; font-weight: bold; line-height: 1; border-radius: 0.35em; vertical-align: middle; margin-left: 0.5rem\">PERSON</span>\n",
       "</mark>\n",
       " ( \n",
       "<mark class=\"entity\" style=\"background: #aa9cfc; padding: 0.45em 0.6em; margin: 0 0.25em; line-height: 1; border-radius: 0.35em;\">\n",
       "    Joseph Mawle\n",
       "    <span style=\"font-size: 0.8em; font-weight: bold; line-height: 1; border-radius: 0.35em; vertical-align: middle; margin-left: 0.5rem\">PERSON</span>\n",
       "</mark>\n",
       " ) and \n",
       "<mark class=\"entity\" style=\"background: #aa9cfc; padding: 0.45em 0.6em; margin: 0 0.25em; line-height: 1; border-radius: 0.35em;\">\n",
       "    Tyrion Lannister\n",
       "    <span style=\"font-size: 0.8em; font-weight: bold; line-height: 1; border-radius: 0.35em; vertical-align: middle; margin-left: 0.5rem\">PERSON</span>\n",
       "</mark>\n",
       " ( \n",
       "<mark class=\"entity\" style=\"background: #aa9cfc; padding: 0.45em 0.6em; margin: 0 0.25em; line-height: 1; border-radius: 0.35em;\">\n",
       "    Peter Dinklage\n",
       "    <span style=\"font-size: 0.8em; font-weight: bold; line-height: 1; border-radius: 0.35em; vertical-align: middle; margin-left: 0.5rem\">PERSON</span>\n",
       "</mark>\n",
       " ) . </br></br> \n",
       "<mark class=\"entity\" style=\"background: #aa9cfc; padding: 0.45em 0.6em; margin: 0 0.25em; line-height: 1; border-radius: 0.35em;\">\n",
       "    Jon\n",
       "    <span style=\"font-size: 0.8em; font-weight: bold; line-height: 1; border-radius: 0.35em; vertical-align: middle; margin-left: 0.5rem\">PERSON</span>\n",
       "</mark>\n",
       " intend to join \n",
       "<mark class=\"entity\" style=\"background: #f0d0ff; padding: 0.45em 0.6em; margin: 0 0.25em; line-height: 1; border-radius: 0.35em;\">\n",
       "    the Night ’s Watch\n",
       "    <span style=\"font-size: 0.8em; font-weight: bold; line-height: 1; border-radius: 0.35em; vertical-align: middle; margin-left: 0.5rem\">WORK_OF_ART</span>\n",
       "</mark>\n",
       " , an order of man who guard the Wall and protect the \n",
       "<mark class=\"entity\" style=\"background: #e4e7d2; padding: 0.45em 0.6em; margin: 0 0.25em; line-height: 1; border-radius: 0.35em;\">\n",
       "    Seven\n",
       "    <span style=\"font-size: 0.8em; font-weight: bold; line-height: 1; border-radius: 0.35em; vertical-align: middle; margin-left: 0.5rem\">CARDINAL</span>\n",
       "</mark>\n",
       " Kingdoms from invader . but \n",
       "<mark class=\"entity\" style=\"background: #e4e7d2; padding: 0.45em 0.6em; margin: 0 0.25em; line-height: 1; border-radius: 0.35em;\">\n",
       "    first\n",
       "    <span style=\"font-size: 0.8em; font-weight: bold; line-height: 1; border-radius: 0.35em; vertical-align: middle; margin-left: 0.5rem\">ORDINAL</span>\n",
       "</mark>\n",
       " , he make one last ( unsuccessful ) attempt to question \n",
       "<mark class=\"entity\" style=\"background: #aa9cfc; padding: 0.45em 0.6em; margin: 0 0.25em; line-height: 1; border-radius: 0.35em;\">\n",
       "    Ned\n",
       "    <span style=\"font-size: 0.8em; font-weight: bold; line-height: 1; border-radius: 0.35em; vertical-align: middle; margin-left: 0.5rem\">PERSON</span>\n",
       "</mark>\n",
       " about the identity of his mother ahead of \n",
       "<mark class=\"entity\" style=\"background: #aa9cfc; padding: 0.45em 0.6em; margin: 0 0.25em; line-height: 1; border-radius: 0.35em;\">\n",
       "    Ned\n",
       "    <span style=\"font-size: 0.8em; font-weight: bold; line-height: 1; border-radius: 0.35em; vertical-align: middle; margin-left: 0.5rem\">PERSON</span>\n",
       "</mark>\n",
       " ’s departure for King ’s Landing . while travel south with their father , \n",
       "<mark class=\"entity\" style=\"background: #aa9cfc; padding: 0.45em 0.6em; margin: 0 0.25em; line-height: 1; border-radius: 0.35em;\">\n",
       "    Arya\n",
       "    <span style=\"font-size: 0.8em; font-weight: bold; line-height: 1; border-radius: 0.35em; vertical-align: middle; margin-left: 0.5rem\">PERSON</span>\n",
       "</mark>\n",
       " and \n",
       "<mark class=\"entity\" style=\"background: #aa9cfc; padding: 0.45em 0.6em; margin: 0 0.25em; line-height: 1; border-radius: 0.35em;\">\n",
       "    Sansa Stark\n",
       "    <span style=\"font-size: 0.8em; font-weight: bold; line-height: 1; border-radius: 0.35em; vertical-align: middle; margin-left: 0.5rem\">PERSON</span>\n",
       "</mark>\n",
       " ( \n",
       "<mark class=\"entity\" style=\"background: #aa9cfc; padding: 0.45em 0.6em; margin: 0 0.25em; line-height: 1; border-radius: 0.35em;\">\n",
       "    Sophie Turner\n",
       "    <span style=\"font-size: 0.8em; font-weight: bold; line-height: 1; border-radius: 0.35em; vertical-align: middle; margin-left: 0.5rem\">PERSON</span>\n",
       "</mark>\n",
       " ) find themselves in the midst of an altercation with \n",
       "<mark class=\"entity\" style=\"background: #aa9cfc; padding: 0.45em 0.6em; margin: 0 0.25em; line-height: 1; border-radius: 0.35em;\">\n",
       "    Prince Joffrey Baratheon\n",
       "    <span style=\"font-size: 0.8em; font-weight: bold; line-height: 1; border-radius: 0.35em; vertical-align: middle; margin-left: 0.5rem\">PERSON</span>\n",
       "</mark>\n",
       " ( \n",
       "<mark class=\"entity\" style=\"background: #aa9cfc; padding: 0.45em 0.6em; margin: 0 0.25em; line-height: 1; border-radius: 0.35em;\">\n",
       "    Jack Gleeson\n",
       "    <span style=\"font-size: 0.8em; font-weight: bold; line-height: 1; border-radius: 0.35em; vertical-align: middle; margin-left: 0.5rem\">PERSON</span>\n",
       "</mark>\n",
       " ) that lead to the death of both \n",
       "<mark class=\"entity\" style=\"background: #aa9cfc; padding: 0.45em 0.6em; margin: 0 0.25em; line-height: 1; border-radius: 0.35em;\">\n",
       "    Arya\n",
       "    <span style=\"font-size: 0.8em; font-weight: bold; line-height: 1; border-radius: 0.35em; vertical-align: middle; margin-left: 0.5rem\">PERSON</span>\n",
       "</mark>\n",
       " ’s friend \n",
       "<mark class=\"entity\" style=\"background: #aa9cfc; padding: 0.45em 0.6em; margin: 0 0.25em; line-height: 1; border-radius: 0.35em;\">\n",
       "    Mycah\n",
       "    <span style=\"font-size: 0.8em; font-weight: bold; line-height: 1; border-radius: 0.35em; vertical-align: middle; margin-left: 0.5rem\">PERSON</span>\n",
       "</mark>\n",
       " ( \n",
       "<mark class=\"entity\" style=\"background: #aa9cfc; padding: 0.45em 0.6em; margin: 0 0.25em; line-height: 1; border-radius: 0.35em;\">\n",
       "    Rhodri Hosking\n",
       "    <span style=\"font-size: 0.8em; font-weight: bold; line-height: 1; border-radius: 0.35em; vertical-align: middle; margin-left: 0.5rem\">PERSON</span>\n",
       "</mark>\n",
       " ) , the butcher ’s boy , and \n",
       "<mark class=\"entity\" style=\"background: #7aecec; padding: 0.45em 0.6em; margin: 0 0.25em; line-height: 1; border-radius: 0.35em;\">\n",
       "    Sansa\n",
       "    <span style=\"font-size: 0.8em; font-weight: bold; line-height: 1; border-radius: 0.35em; vertical-align: middle; margin-left: 0.5rem\">ORG</span>\n",
       "</mark>\n",
       " ’s direwolf , \n",
       "<mark class=\"entity\" style=\"background: #aa9cfc; padding: 0.45em 0.6em; margin: 0 0.25em; line-height: 1; border-radius: 0.35em;\">\n",
       "    Lady\n",
       "    <span style=\"font-size: 0.8em; font-weight: bold; line-height: 1; border-radius: 0.35em; vertical-align: middle; margin-left: 0.5rem\">PERSON</span>\n",
       "</mark>\n",
       " . luckily , \n",
       "<mark class=\"entity\" style=\"background: #aa9cfc; padding: 0.45em 0.6em; margin: 0 0.25em; line-height: 1; border-radius: 0.35em;\">\n",
       "    Arya\n",
       "    <span style=\"font-size: 0.8em; font-weight: bold; line-height: 1; border-radius: 0.35em; vertical-align: middle; margin-left: 0.5rem\">PERSON</span>\n",
       "</mark>\n",
       " be able to set her own direwolf , \n",
       "<mark class=\"entity\" style=\"background: #feca74; padding: 0.45em 0.6em; margin: 0 0.25em; line-height: 1; border-radius: 0.35em;\">\n",
       "    Nymeria\n",
       "    <span style=\"font-size: 0.8em; font-weight: bold; line-height: 1; border-radius: 0.35em; vertical-align: middle; margin-left: 0.5rem\">GPE</span>\n",
       "</mark>\n",
       " , loose in the wild before any harm can come to she . elsewhere , \n",
       "<mark class=\"entity\" style=\"background: #7aecec; padding: 0.45em 0.6em; margin: 0 0.25em; line-height: 1; border-radius: 0.35em;\">\n",
       "    Daenerys\n",
       "    <span style=\"font-size: 0.8em; font-weight: bold; line-height: 1; border-radius: 0.35em; vertical-align: middle; margin-left: 0.5rem\">ORG</span>\n",
       "</mark>\n",
       " find a way to connect with her new husband and Bran wake up from the coma he have be in for over a month .</div></span>"
      ],
      "text/plain": [
       "<IPython.core.display.HTML object>"
      ]
     },
     "metadata": {},
     "output_type": "display_data"
    }
   ],
   "source": [
    "doc = nlp(review)\n",
    "spacy.displacy.render(doc, style='ent',jupyter=True)"
   ]
  },
  {
   "cell_type": "code",
   "execution_count": 18,
   "id": "e4e0e358",
   "metadata": {
    "tags": []
   },
   "outputs": [
    {
     "name": "stdout",
     "output_type": "stream",
     "text": [
      "although => SCONJ\n",
      "Jon => PROPN\n",
      "Snow => PROPN\n",
      "( => PUNCT\n",
      "Kit => PROPN\n",
      "Harington => PROPN\n",
      ") => PUNCT\n",
      ", => PUNCT\n",
      "who => PRON\n",
      "we => PRON\n",
      "know => VERB\n",
      "as => ADP\n",
      "the => DET\n",
      "illegitimate => ADJ\n",
      "son => NOUN\n",
      "of => ADP\n",
      "Ned => PROPN\n",
      "and => CCONJ\n",
      "a => DET\n",
      "random => ADJ\n",
      ", => PUNCT\n",
      "unknown => ADJ\n",
      "woman => NOUN\n",
      ", => PUNCT\n",
      "be => VERB\n",
      "introduce => VERB\n",
      "in => ADP\n",
      "the => DET\n",
      "pilot => NOUN\n",
      ", => PUNCT\n",
      "his => PRON\n",
      "storyline => NOUN\n",
      "do => AUX\n",
      "n’t => AUX\n",
      "really => ADV\n",
      "pick => VERB\n",
      "up => ADP\n",
      "until => ADP\n",
      "the => DET\n",
      "second => ADJ\n",
      "episode => NOUN\n",
      ". => PUNCT\n",
      "after => ADP\n",
      "gift => NOUN\n",
      "his => PRON\n",
      "half => ADJ\n",
      "- => PUNCT\n",
      "sister => NOUN\n",
      "Arya => PROPN\n",
      "( => PUNCT\n",
      "Maisie => PROPN\n",
      "Williams => PROPN\n",
      ") => PUNCT\n",
      "with => ADP\n",
      "a => DET\n",
      "small => ADJ\n",
      "sword => NOUN\n",
      "that => DET\n",
      "she => PRON\n",
      "dub => VERB\n",
      "\" => PUNCT\n",
      "Needle => PROPN\n",
      ", => PUNCT\n",
      "\" => PUNCT\n",
      "Jon => PROPN\n",
      "leave => VERB\n",
      "for => ADP\n",
      "the => DET\n",
      "Wall => PROPN\n",
      ", => PUNCT\n",
      "a => DET\n",
      "700 => NUM\n",
      "- => PUNCT\n",
      "foot => NOUN\n",
      "tall => ADJ\n",
      ", => PUNCT\n",
      "300 => NUM\n",
      "- => PUNCT\n",
      "foot => NOUN\n",
      "thick => ADJ\n",
      "barrier => NOUN\n",
      "of => ADP\n",
      "ice => NOUN\n",
      "that => DET\n",
      "span => VERB\n",
      "all => DET\n",
      "300 => NUM\n",
      "mile => NOUN\n",
      "of => ADP\n",
      "Westeros => PROPN\n",
      "’ => PART\n",
      "northern => ADJ\n",
      "border => NOUN\n",
      ", => PUNCT\n",
      "with => ADP\n",
      "his => PRON\n",
      "Uncle => PROPN\n",
      "Benjen => PROPN\n",
      "( => PUNCT\n",
      "Joseph => PROPN\n",
      "Mawle => PROPN\n",
      ") => PUNCT\n",
      "and => CCONJ\n",
      "Tyrion => PROPN\n",
      "Lannister => PROPN\n",
      "( => PUNCT\n",
      "Peter => PROPN\n",
      "Dinklage => PROPN\n",
      ") => PUNCT\n",
      ". => PUNCT\n",
      "\n",
      "\n",
      "  => SPACE\n",
      "Jon => PROPN\n",
      "intend => VERB\n",
      "to => PART\n",
      "join => VERB\n",
      "the => DET\n",
      "Night => PROPN\n",
      "’s => PART\n",
      "Watch => PROPN\n",
      ", => PUNCT\n",
      "an => DET\n",
      "order => NOUN\n",
      "of => ADP\n",
      "man => NOUN\n",
      "who => PRON\n",
      "guard => VERB\n",
      "the => DET\n",
      "Wall => PROPN\n",
      "and => CCONJ\n",
      "protect => VERB\n",
      "the => DET\n",
      "Seven => PROPN\n",
      "Kingdoms => PROPN\n",
      "from => ADP\n",
      "invader => NOUN\n",
      ". => PUNCT\n",
      "but => CCONJ\n",
      "first => ADV\n",
      ", => PUNCT\n",
      "he => PRON\n",
      "make => VERB\n",
      "one => NUM\n",
      "last => ADJ\n",
      "( => PUNCT\n",
      "unsuccessful => ADJ\n",
      ") => PUNCT\n",
      "attempt => NOUN\n",
      "to => PART\n",
      "question => VERB\n",
      "Ned => PROPN\n",
      "about => ADP\n",
      "the => DET\n",
      "identity => NOUN\n",
      "of => ADP\n",
      "his => PRON\n",
      "mother => NOUN\n",
      "ahead => ADV\n",
      "of => ADP\n",
      "Ned => PROPN\n",
      "’s => PART\n",
      "departure => NOUN\n",
      "for => ADP\n",
      "King => PROPN\n",
      "’s => PART\n",
      "Landing => PROPN\n",
      ". => PUNCT\n",
      "while => SCONJ\n",
      "travel => VERB\n",
      "south => ADV\n",
      "with => ADP\n",
      "their => PRON\n",
      "father => NOUN\n",
      ", => PUNCT\n",
      "Arya => PROPN\n",
      "and => CCONJ\n",
      "Sansa => PROPN\n",
      "Stark => PROPN\n",
      "( => PUNCT\n",
      "Sophie => PROPN\n",
      "Turner => PROPN\n",
      ") => PUNCT\n",
      "find => VERB\n",
      "themselves => PRON\n",
      "in => ADP\n",
      "the => DET\n",
      "midst => NOUN\n",
      "of => ADP\n",
      "an => DET\n",
      "altercation => NOUN\n",
      "with => ADP\n",
      "Prince => PROPN\n",
      "Joffrey => PROPN\n",
      "Baratheon => PROPN\n",
      "( => PUNCT\n",
      "Jack => PROPN\n",
      "Gleeson => PROPN\n",
      ") => PUNCT\n",
      "that => DET\n",
      "lead => VERB\n",
      "to => ADP\n",
      "the => DET\n",
      "death => NOUN\n",
      "of => ADP\n",
      "both => DET\n",
      "Arya => PROPN\n",
      "’s => PART\n",
      "friend => NOUN\n",
      "Mycah => PROPN\n",
      "( => PUNCT\n",
      "Rhodri => PROPN\n",
      "Hosking => PROPN\n",
      ") => PUNCT\n",
      ", => PUNCT\n",
      "the => DET\n",
      "butcher => NOUN\n",
      "’s => PART\n",
      "boy => NOUN\n",
      ", => PUNCT\n",
      "and => CCONJ\n",
      "Sansa => PROPN\n",
      "’s => PART\n",
      "direwolf => NOUN\n",
      ", => PUNCT\n",
      "Lady => PROPN\n",
      ". => PUNCT\n",
      "luckily => ADV\n",
      ", => PUNCT\n",
      "Arya => PROPN\n",
      "be => VERB\n",
      "able => ADJ\n",
      "to => PART\n",
      "set => VERB\n",
      "her => PRON\n",
      "own => ADJ\n",
      "direwolf => NOUN\n",
      ", => PUNCT\n",
      "Nymeria => PROPN\n",
      ", => PUNCT\n",
      "loose => ADJ\n",
      "in => ADP\n",
      "the => DET\n",
      "wild => NOUN\n",
      "before => ADP\n",
      "any => DET\n",
      "harm => NOUN\n",
      "can => AUX\n",
      "come => VERB\n",
      "to => ADP\n",
      "she => PRON\n",
      ". => PUNCT\n",
      "elsewhere => ADV\n",
      ", => PUNCT\n",
      "Daenerys => PROPN\n",
      "find => VERB\n",
      "a => DET\n",
      "way => NOUN\n",
      "to => PART\n",
      "connect => VERB\n",
      "with => ADP\n",
      "her => PRON\n",
      "new => ADJ\n",
      "husband => NOUN\n",
      "and => CCONJ\n",
      "Bran => PROPN\n",
      "wake => VERB\n",
      "up => ADP\n",
      "from => ADP\n",
      "the => DET\n",
      "coma => NOUN\n",
      "he => PRON\n",
      "have => AUX\n",
      "be => VERB\n",
      "in => ADP\n",
      "for => ADP\n",
      "over => ADP\n",
      "a => DET\n",
      "month => NOUN\n",
      ". => PUNCT\n"
     ]
    }
   ],
   "source": [
    "# POS tagging\n",
    "for i in nlp(review):\n",
    "    print(i,\"=>\",i.pos_)"
   ]
  },
  {
   "cell_type": "code",
   "execution_count": 19,
   "id": "83281108",
   "metadata": {},
   "outputs": [],
   "source": [
    "tqdm.pandas()\n",
    "tokens = spacy_tokenizer(corpus_reviews['Episode recap'][1])"
   ]
  },
  {
   "cell_type": "code",
   "execution_count": 20,
   "id": "7f998f9c",
   "metadata": {},
   "outputs": [
    {
     "data": {
      "text/plain": [
       "'jon snow kit harington know illegitimate son ned random unknown woman introduced pilot storyline pick second episode gifting half sister arya maisie williams small sword dubs “ needle ” jon leaves wall 700 foot tall 300 foot thick barrier ice spans 300 miles westeros ’ northern border uncle benjen joseph mawle tyrion lannister peter dinklage \\n\\n jon intends join night watch order men guard wall protect seven kingdoms invaders makes unsuccessful attempt question ned identity mother ahead ned departure king landing traveling south father arya sansa stark sophie turner find midst altercation prince joffrey baratheon jack gleeson leads deaths arya friend mycah rhodri hosking butcher boy sansa direwolf lady luckily arya able set direwolf nymeria loose wild harm come daenerys finds way connect new husband bran wakes coma month'"
      ]
     },
     "execution_count": 20,
     "metadata": {},
     "output_type": "execute_result"
    }
   ],
   "source": [
    "tokens"
   ]
  },
  {
   "cell_type": "code",
   "execution_count": 21,
   "id": "997ed329",
   "metadata": {},
   "outputs": [],
   "source": [
    "# Creating a vectorizer\n",
    "vectorizer = CountVectorizer(stop_words='english', lowercase=True, token_pattern='[a-zA-Z\\-][a-zA-Z\\-]{2,}')\n",
    "data_vectorized = vectorizer.fit_transform([tokens])"
   ]
  },
  {
   "cell_type": "code",
   "execution_count": 22,
   "id": "3c749650",
   "metadata": {},
   "outputs": [],
   "source": [
    "NUM_TOPICS = 10"
   ]
  },
  {
   "cell_type": "code",
   "execution_count": 23,
   "id": "01724a6a",
   "metadata": {},
   "outputs": [
    {
     "name": "stdout",
     "output_type": "stream",
     "text": [
      "iteration: 1 of max_iter: 10\n",
      "iteration: 2 of max_iter: 10\n",
      "iteration: 3 of max_iter: 10\n",
      "iteration: 4 of max_iter: 10\n",
      "iteration: 5 of max_iter: 10\n",
      "iteration: 6 of max_iter: 10\n",
      "iteration: 7 of max_iter: 10\n",
      "iteration: 8 of max_iter: 10\n",
      "iteration: 9 of max_iter: 10\n",
      "iteration: 10 of max_iter: 10\n"
     ]
    }
   ],
   "source": [
    "# Latent Dirichlet Allocation Model\n",
    "lda = LatentDirichletAllocation(n_components=NUM_TOPICS, max_iter=10, learning_method='online',verbose=True)\n",
    "data_lda = lda.fit_transform(data_vectorized)"
   ]
  },
  {
   "cell_type": "code",
   "execution_count": 24,
   "id": "27b78045",
   "metadata": {},
   "outputs": [],
   "source": [
    "# Non-Negative Matrix Factorization Model\n",
    "nmf = NMF(n_components=NUM_TOPICS)\n",
    "data_nmf = nmf.fit_transform(data_vectorized) "
   ]
  },
  {
   "cell_type": "code",
   "execution_count": 25,
   "id": "78015ac4",
   "metadata": {},
   "outputs": [],
   "source": [
    "# Latent Semantic Indexing Model using Truncated SVD\n",
    "lsi = TruncatedSVD(n_components=NUM_TOPICS)\n",
    "data_lsi = lsi.fit_transform(data_vectorized)"
   ]
  },
  {
   "cell_type": "code",
   "execution_count": 26,
   "id": "f0e71dca",
   "metadata": {},
   "outputs": [],
   "source": [
    "# Functions for printing keywords for each topic\n",
    "def selected_topics(model, vectorizer, top_n=10):\n",
    "    for idx, topic in enumerate(model.components_):\n",
    "        print(\"Topic %d:\" % (idx))\n",
    "        print([(vectorizer.get_feature_names()[i], topic[i])\n",
    "                        for i in topic.argsort()[:-top_n - 1:-1]]) "
   ]
  },
  {
   "cell_type": "code",
   "execution_count": 27,
   "id": "f8eb272b",
   "metadata": {},
   "outputs": [
    {
     "name": "stdout",
     "output_type": "stream",
     "text": [
      "LDA Model:\n",
      "Topic 0:\n",
      "[('dubs', 0.35243646958326713), ('joseph', 0.34118528035160367), ('pilot', 0.3389413958883106), ('arya', 0.337935391605536), ('ned', 0.33700901679747475), ('seven', 0.33619547139533124), ('order', 0.335546434927683), ('wild', 0.3331101423822483), ('harm', 0.33305492883338955), ('lannister', 0.3330426080164012)]\n",
      "Topic 1:\n",
      "[('know', 0.33258105165473206), ('prince', 0.32250036862166404), ('joffrey', 0.31739302286333654), ('storyline', 0.3168585421439219), ('question', 0.31482352754880255), ('finds', 0.31382248073148167), ('arya', 0.31382117408929455), ('woman', 0.313567558228462), ('month', 0.3129854828571788), ('nymeria', 0.3111487515517562)]\n",
      "Topic 2:\n",
      "[('bran', 0.33631117732120575), ('direwolf', 0.32566864011324115), ('mycah', 0.3166186997306659), ('williams', 0.3164839472289912), ('introduced', 0.3149717491049374), ('watch', 0.3135904266558861), ('half', 0.3130208766289102), ('nymeria', 0.3127658091644657), ('son', 0.3111707299307302), ('random', 0.3095243676044276)]\n",
      "Topic 3:\n",
      "[('south', 0.33502138825880723), ('loose', 0.3251097383357959), ('hosking', 0.3188298375390506), ('husband', 0.30724036552030026), ('second', 0.3067475379702483), ('identity', 0.30653270069267574), ('set', 0.3063070705992864), ('butcher', 0.3045662844264432), ('kit', 0.30352657664964455), ('unsuccessful', 0.30168660992563695)]\n",
      "Topic 4:\n",
      "[('arya', 3.4028519244102498), ('jon', 2.6595636891762173), ('ned', 2.6148888923046063), ('direwolf', 1.862344554920345), ('sansa', 1.8389641928176181), ('foot', 1.8195334576279296), ('wall', 1.8022822669569996), ('mawle', 1.1286771035705225), ('second', 1.121126161919687), ('jack', 1.1082626486009035)]\n",
      "Topic 5:\n",
      "[('loose', 0.3284257436091897), ('altercation', 0.31989260365816186), ('stark', 0.3197693225790532), ('departure', 0.31851833550153635), ('joffrey', 0.31146737335573116), ('leads', 0.31145376216107845), ('snow', 0.31136487872656093), ('pilot', 0.3090522133540539), ('kingdoms', 0.3045565320833099), ('unsuccessful', 0.30294353110884725)]\n",
      "Topic 6:\n",
      "[('random', 0.32759098528348957), ('son', 0.3245112612831309), ('dubs', 0.3132319957561349), ('night', 0.3115692451042254), ('baratheon', 0.310517207765089), ('border', 0.30956160162243923), ('hosking', 0.3055610458178021), ('leaves', 0.30361001177846236), ('lannister', 0.30279564897052647), ('half', 0.30231465067393887)]\n",
      "Topic 7:\n",
      "[('sansa', 0.3414060902243495), ('kit', 0.33198901174915796), ('miles', 0.3267971743012921), ('month', 0.3232180643261719), ('foot', 0.32037023897886646), ('king', 0.3187558666485405), ('intends', 0.3161608593521493), ('midst', 0.3155727976268432), ('introduced', 0.31338002031633044), ('maisie', 0.3127296458039024)]\n",
      "Topic 8:\n",
      "[('luckily', 0.3447426493211543), ('bran', 0.3385535283897219), ('loose', 0.32795639792984677), ('maisie', 0.3225953852682086), ('traveling', 0.3096515157886632), ('episode', 0.30952290155872986), ('able', 0.30838526095972385), ('finds', 0.3079958328592125), ('watch', 0.30536532800196203), ('border', 0.303929900676708)]\n",
      "Topic 9:\n",
      "[('unknown', 0.32646972279822156), ('joffrey', 0.32247431079608635), ('episode', 0.3131340940036748), ('sister', 0.31043581893080996), ('son', 0.3095145438127684), ('direwolf', 0.3085170410542827), ('tyrion', 0.3080789214572253), ('foot', 0.30612543219936955), ('wild', 0.30591328159562825), ('departure', 0.30576900299756327)]\n"
     ]
    }
   ],
   "source": [
    "# Keywords for topics clustered by Latent Dirichlet Allocation\n",
    "print(\"LDA Model:\")\n",
    "selected_topics(lda, vectorizer)"
   ]
  },
  {
   "cell_type": "code",
   "execution_count": 28,
   "id": "c3bb2161",
   "metadata": {},
   "outputs": [
    {
     "name": "stdout",
     "output_type": "stream",
     "text": [
      "NMF Model:\n",
      "Topic 0:\n",
      "[('arya', 2.518747608965112), ('jon', 1.9962862188663408), ('ned', 1.9686756567495611), ('sansa', 1.035112193098718), ('direwolf', 1.0184996937887716), ('wall', 0.9952689295742763), ('foot', 0.7966557114902468), ('harm', 0.5576239898414795), ('joffrey', 0.5494661158219921), ('leaves', 0.49381280668278554)]\n",
      "Topic 1:\n",
      "[('arya', 0.8021633991608227), ('butcher', 0.6643772414078438), ('dinklage', 0.6285117391035357), ('snow', 0.6259204470234161), ('pilot', 0.6093278460498023), ('guard', 0.5389054237275617), ('connect', 0.5366431327807308), ('pick', 0.5210806783358004), ('foot', 0.5006505342026639), ('westeros', 0.49919839003724625)]\n",
      "Topic 2:\n",
      "[('sword', 1.0086900503028946), ('maisie', 0.7442191124581287), ('direwolf', 0.6963072299384968), ('deaths', 0.6781495730139353), ('introduced', 0.6419099998213958), ('tall', 0.5926758520699748), ('second', 0.5854454515604035), ('sansa', 0.5813531933098401), ('jon', 0.5660799782331426), ('benjen', 0.5632364596288081)]\n",
      "Topic 3:\n",
      "[('ahead', 0.986433631101504), ('month', 0.837923416668203), ('guard', 0.7964479710754034), ('unknown', 0.7303231819035308), ('bran', 0.7211018710075158), ('needle', 0.6920313561320736), ('wakes', 0.6528465530134886), ('woman', 0.6262749065389962), ('wall', 0.5949300617875664), ('arya', 0.55316744281833)]\n",
      "Topic 4:\n",
      "[('kit', 1.002534849831723), ('son', 0.9261652336277124), ('invaders', 0.8595612215030337), ('husband', 0.7920964784724386), ('hosking', 0.7763449698230378), ('set', 0.7600508894875975), ('illegitimate', 0.7481567105039476), ('dubs', 0.6753661653965213), ('wall', 0.6524535820043144), ('ice', 0.5949677350740916)]\n",
      "Topic 5:\n",
      "[('butcher', 0.9213205955527998), ('join', 0.9009942463087014), ('way', 0.8266820555479367), ('invaders', 0.815907217308316), ('harington', 0.8113452285592341), ('westeros', 0.7843358079426473), ('tall', 0.7774875752888317), ('pilot', 0.7344044577134782), ('unknown', 0.7090004067563485), ('come', 0.6842789823519562)]\n",
      "Topic 6:\n",
      "[('kit', 0.777181931346109), ('stark', 0.7706823547826583), ('friend', 0.7339378262147999), ('jack', 0.7211137230473742), ('landing', 0.7066455789770967), ('pick', 0.6296857752542994), ('son', 0.5849402364537695), ('turner', 0.5808692283082715), ('butcher', 0.567549040729465), ('loose', 0.5674179728098226)]\n",
      "Topic 7:\n",
      "[('boy', 0.9141112597820361), ('woman', 0.7196520735163648), ('daenerys', 0.686753156084149), ('invaders', 0.6600750329733752), ('turner', 0.621313469178858), ('identity', 0.6171083485642944), ('benjen', 0.5985690710728508), ('south', 0.5841788924400193), ('spans', 0.5633922284953663), ('maisie', 0.5368779871113459)]\n",
      "Topic 8:\n",
      "[('altercation', 0.8513349816334205), ('wakes', 0.7482320686395156), ('south', 0.6733537124273042), ('small', 0.65128793947642), ('second', 0.6426778090834213), ('dinklage', 0.6310656756869232), ('half', 0.6146354850662418), ('know', 0.6114048297212484), ('loose', 0.5942243761206845), ('woman', 0.5855096575292551)]\n",
      "Topic 9:\n",
      "[('invaders', 0.9269094789895699), ('order', 0.900383883890269), ('rhodri', 0.8782254228184383), ('random', 0.8537737404574098), ('lady', 0.8462880302527316), ('join', 0.8064011756811627), ('direwolf', 0.775916391773373), ('sophie', 0.7280111869715421), ('altercation', 0.7056953377244379), ('month', 0.6754371489872054)]\n"
     ]
    }
   ],
   "source": [
    "# Keywords for topics clustered by Latent Semantic Indexing\n",
    "print(\"NMF Model:\")\n",
    "selected_topics(nmf, vectorizer)"
   ]
  },
  {
   "cell_type": "code",
   "execution_count": 29,
   "id": "93c81e65",
   "metadata": {},
   "outputs": [
    {
     "name": "stdout",
     "output_type": "stream",
     "text": [
      "LSI Model:\n",
      "Topic 0:\n",
      "[('arya', 0.3244428422615251), ('ned', 0.2433321316961438), ('jon', 0.2433321316961438), ('wall', 0.16222142113076254), ('foot', 0.16222142113076254), ('direwolf', 0.16222142113076254), ('sansa', 0.16222142113076254), ('kit', 0.08111071056538127), ('illegitimate', 0.08111071056538127), ('half', 0.08111071056538127)]\n"
     ]
    }
   ],
   "source": [
    "# Keywords for topics clustered by Non-Negative Matrix Factorization\n",
    "print(\"LSI Model:\")\n",
    "selected_topics(lsi, vectorizer)"
   ]
  },
  {
   "cell_type": "code",
   "execution_count": 30,
   "id": "a7bf6cea",
   "metadata": {},
   "outputs": [
    {
     "name": "stdout",
     "output_type": "stream",
     "text": [
      "[0.03333501 0.03333475 0.03333418 0.03333434 0.69998853 0.03333511\n",
      " 0.03333455 0.0333347  0.03333448 0.03333434]\n"
     ]
    }
   ],
   "source": [
    "# Transforming an individual sentence\n",
    "text = spacy_tokenizer(\"Arya Stark.\")\n",
    "x = lda.transform(vectorizer.transform([text]))[0]\n",
    "print(x)"
   ]
  },
  {
   "cell_type": "code",
   "execution_count": 31,
   "id": "2a42fffb",
   "metadata": {},
   "outputs": [
    {
     "name": "stderr",
     "output_type": "stream",
     "text": [
      "/Users/andreea/miniconda3/envs/tfm/lib/python3.9/site-packages/past/builtins/misc.py:45: DeprecationWarning: the imp module is deprecated in favour of importlib; see the module's documentation for alternative uses\n",
      "  from imp import reload\n",
      "/Users/andreea/miniconda3/envs/tfm/lib/python3.9/site-packages/past/builtins/misc.py:45: DeprecationWarning: the imp module is deprecated in favour of importlib; see the module's documentation for alternative uses\n",
      "  from imp import reload\n",
      "/Users/andreea/miniconda3/envs/tfm/lib/python3.9/site-packages/past/builtins/misc.py:45: DeprecationWarning: the imp module is deprecated in favour of importlib; see the module's documentation for alternative uses\n",
      "  from imp import reload\n",
      "/Users/andreea/miniconda3/envs/tfm/lib/python3.9/site-packages/past/builtins/misc.py:45: DeprecationWarning: the imp module is deprecated in favour of importlib; see the module's documentation for alternative uses\n",
      "  from imp import reload\n",
      "/Users/andreea/miniconda3/envs/tfm/lib/python3.9/site-packages/past/builtins/misc.py:45: DeprecationWarning: the imp module is deprecated in favour of importlib; see the module's documentation for alternative uses\n",
      "  from imp import reload\n",
      "/Users/andreea/miniconda3/envs/tfm/lib/python3.9/site-packages/past/builtins/misc.py:45: DeprecationWarning: the imp module is deprecated in favour of importlib; see the module's documentation for alternative uses\n",
      "  from imp import reload\n"
     ]
    }
   ],
   "source": [
    "pyLDAvis.enable_notebook()\n",
    "dash = pyLDAvis.sklearn.prepare(lda, data_vectorized, vectorizer, mds='tsne')\n",
    "#dash"
   ]
  },
  {
   "cell_type": "code",
   "execution_count": 32,
   "id": "3dfbbb65",
   "metadata": {},
   "outputs": [
    {
     "data": {
      "text/plain": [
       "'Although Jon Snow (Kit Harington), who we know as the illegitimate son of Ned and a random, unknown woman, was introduced in the pilot, his storyline doesn’t really pick up until the second episode. After gifting his half-sister Arya (Maisie Williams) with a small sword that she dubs “Needle,” Jon leaves for the Wall, a 700-foot tall, 300-foot thick barrier of ice that spans all 300 miles of Westeros’ northern border, with his Uncle Benjen (Joseph Mawle) and Tyrion Lannister (Peter Dinklage).\\n\\nJon intends to join the Night’s Watch, an order of men who guard the Wall and protect the Seven Kingdoms from invaders. But first, he makes one last (unsuccessful) attempt to question Ned about the identity of his mother ahead of Ned’s departure for King’s Landing.While traveling south with their father, Arya and Sansa Stark (Sophie Turner) find themselves in the midst of an altercation with Prince Joffrey Baratheon (Jack Gleeson) that leads to the deaths of both Arya’s friend Mycah (Rhodri Hosking), the butcher’s boy, and Sansa’s direwolf, Lady. Luckily, Arya is able to set her own direwolf, Nymeria, loose in the wild before any harm can come to her. Elsewhere, Daenerys finds a way to connect with her new husband and Bran wakes up from the coma he has been in for over a month.'"
      ]
     },
     "execution_count": 32,
     "metadata": {},
     "output_type": "execute_result"
    }
   ],
   "source": [
    "corpus_reviews['Episode recap'][1]"
   ]
  },
  {
   "cell_type": "code",
   "execution_count": 33,
   "id": "bd6665c4",
   "metadata": {},
   "outputs": [
    {
     "name": "stdout",
     "output_type": "stream",
     "text": [
      "Requirement already satisfied: sentencepiece in /Users/andreea/miniconda3/lib/python3.9/site-packages (0.1.96)\n"
     ]
    }
   ],
   "source": [
    "!pip install sentencepiece"
   ]
  },
  {
   "cell_type": "code",
   "execution_count": 34,
   "id": "4ac721bb",
   "metadata": {},
   "outputs": [],
   "source": [
    "#get_summary(corpus_reviews['Episode recap'][1])"
   ]
  },
  {
   "cell_type": "code",
   "execution_count": 35,
   "id": "caf327ac",
   "metadata": {},
   "outputs": [],
   "source": [
    "#corpus_reviews['Episode recap'][2]"
   ]
  },
  {
   "cell_type": "code",
   "execution_count": 36,
   "id": "ea71f311",
   "metadata": {},
   "outputs": [],
   "source": [
    "#corpus_reviews['Episode recap'][71]"
   ]
  },
  {
   "cell_type": "code",
   "execution_count": 37,
   "id": "b1134ff0",
   "metadata": {},
   "outputs": [],
   "source": [
    "#get_summary(corpus_reviews['Episode recap'][2])"
   ]
  },
  {
   "cell_type": "code",
   "execution_count": 38,
   "id": "c95f548d",
   "metadata": {},
   "outputs": [],
   "source": [
    "#get_summary(corpus_reviews['Episode recap'][2], \"sshleifer/distilbart-xsum-12-3\")"
   ]
  },
  {
   "cell_type": "code",
   "execution_count": 39,
   "id": "f6c74eab",
   "metadata": {},
   "outputs": [],
   "source": [
    "#get_summary(corpus_reviews['Episode recap'][2], \"google/pegasus-xsum\")"
   ]
  },
  {
   "cell_type": "markdown",
   "id": "3063b9ac",
   "metadata": {},
   "source": [
    "### Usando script sin nombres "
   ]
  },
  {
   "cell_type": "code",
   "execution_count": 40,
   "id": "c43b475f",
   "metadata": {},
   "outputs": [],
   "source": [
    "#get_summary(s1_ep2)"
   ]
  },
  {
   "cell_type": "markdown",
   "id": "cb91a3c4",
   "metadata": {},
   "source": [
    "### Usando script con nombres"
   ]
  },
  {
   "cell_type": "code",
   "execution_count": 41,
   "id": "1a290e66",
   "metadata": {},
   "outputs": [],
   "source": [
    "#get_summary(s1_ep2_names)"
   ]
  },
  {
   "cell_type": "code",
   "execution_count": 42,
   "id": "81d552fb",
   "metadata": {},
   "outputs": [],
   "source": [
    "#get_summary(corpus_reviews['Episode recap'][3], \"hyunwoongko/ctrlsum-cnndm\")"
   ]
  },
  {
   "cell_type": "markdown",
   "id": "70d898a8",
   "metadata": {},
   "source": [
    "## **Pruebas con el sentence similarity**\n",
    "https://towardsdatascience.com/bert-for-measuring-text-similarity-eec91c6bf9e1"
   ]
  },
  {
   "cell_type": "code",
   "execution_count": 185,
   "id": "ca20a00e",
   "metadata": {},
   "outputs": [],
   "source": [
    "#Mean Pooling - Take attention mask into account for correct averaging\n",
    "def mean_pooling(model_output, attention_mask):\n",
    "    token_embeddings = model_output[0] #First element of model_output contains all token embeddings, or the last_hidden_state\n",
    "    input_mask_expanded = attention_mask.unsqueeze(-1).expand(token_embeddings.size()).float()\n",
    "    return torch.sum(token_embeddings * input_mask_expanded, 1) / torch.clamp(input_mask_expanded.sum(1), min=1e-9)\n",
    "\n",
    "def get_sentence_embeddings(input_data, model_name='sentence-transformers/paraphrase-mpnet-base-v2'):\n",
    "    tokenizer = AutoTokenizer.from_pretrained(model_name)\n",
    "    model = AutoModel.from_pretrained(model_name)\n",
    "\n",
    "    encoded_input = tokenizer(input_data, padding=True, truncation=True, return_tensors='pt')\n",
    "\n",
    "    # Compute token embeddings\n",
    "    with torch.no_grad():\n",
    "        model_output = model(**encoded_input)\n",
    "        \n",
    "    # Perform pooling. In this case, max pooling.\n",
    "    sentence_embeddings = mean_pooling(model_output, encoded_input['attention_mask'])\n",
    "\n",
    "    return sentence_embeddings.detach().numpy()\n",
    "\n",
    "def get_similar_sentences(sentence, other_sentences, similarity_threshold=0.7):\n",
    "    sims = cosine_similarity(sentence, other_sentences)\n",
    "    return np.where(sims.reshape(-1) >= similarity_threshold)[0]"
   ]
  },
  {
   "cell_type": "code",
   "execution_count": 186,
   "id": "fc5aa655",
   "metadata": {},
   "outputs": [
    {
     "name": "stderr",
     "output_type": "stream",
     "text": [
      "Loading cached processed dataset at /Users/andreea/.cache/huggingface/datasets/csv/default-6267e762714f0fd0/0.0.0/9144e0a4e8435090117cea53e6c7537173ef2304525df4a077c435d8ee7828ff/cache-05842c71d6ab9f3e.arrow\n",
      "Loading cached processed dataset at /Users/andreea/.cache/huggingface/datasets/csv/default-6267e762714f0fd0/0.0.0/9144e0a4e8435090117cea53e6c7537173ef2304525df4a077c435d8ee7828ff/cache-80a1cce4dbd0b731.arrow\n"
     ]
    }
   ],
   "source": [
    "# convert from PyTorch tensor to numpy array\n",
    "sentences = get_script_episode(corpus, 'Season 1', 'Episode 2')['Sentence']\n",
    "mean_pooled = get_sentence_embeddings(sentences)"
   ]
  },
  {
   "cell_type": "code",
   "execution_count": 191,
   "id": "2767a4a2",
   "metadata": {},
   "outputs": [],
   "source": [
    "from sklearn.metrics.pairwise import cosine_similarity\n",
    "# calculate\n",
    "idx_sentence = 26\n",
    "similar_sentences = get_similar_sentences([mean_pooled[idx_sentence]], mean_pooled)"
   ]
  },
  {
   "cell_type": "code",
   "execution_count": 192,
   "id": "2b8d2528",
   "metadata": {},
   "outputs": [
    {
     "name": "stdout",
     "output_type": "stream",
     "text": [
      "Is Bran going to die?\n",
      "You've said goodbye to Bran? He's not going to die. I know it.\n",
      "What if he's wrong? Bran needs me.\n"
     ]
    }
   ],
   "source": [
    "for idx in similar_sentences:\n",
    "    print(sentences[idx])"
   ]
  },
  {
   "cell_type": "code",
   "execution_count": null,
   "id": "9290e550",
   "metadata": {},
   "outputs": [],
   "source": []
  }
 ],
 "metadata": {
  "kernelspec": {
   "display_name": "tfm",
   "language": "python",
   "name": "tfm"
  },
  "language_info": {
   "codemirror_mode": {
    "name": "ipython",
    "version": 3
   },
   "file_extension": ".py",
   "mimetype": "text/x-python",
   "name": "python",
   "nbconvert_exporter": "python",
   "pygments_lexer": "ipython3",
   "version": "3.9.6"
  }
 },
 "nbformat": 4,
 "nbformat_minor": 5
}
