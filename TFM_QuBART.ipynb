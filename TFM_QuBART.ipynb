{
 "cells": [
  {
   "cell_type": "markdown",
   "id": "cc105042",
   "metadata": {},
   "source": [
    "# **Trabajo de Fin de Máster**"
   ]
  },
  {
   "cell_type": "markdown",
   "id": "3d482e30",
   "metadata": {},
   "source": [
    "# **1. Imports**"
   ]
  },
  {
   "cell_type": "code",
   "execution_count": 1,
   "id": "6027a839",
   "metadata": {},
   "outputs": [
    {
     "data": {
      "text/html": [
       "        <script type=\"text/javascript\">\n",
       "        window.PlotlyConfig = {MathJaxConfig: 'local'};\n",
       "        if (window.MathJax) {MathJax.Hub.Config({SVG: {font: \"STIX-Web\"}});}\n",
       "        if (typeof require !== 'undefined') {\n",
       "        require.undef(\"plotly\");\n",
       "        requirejs.config({\n",
       "            paths: {\n",
       "                'plotly': ['https://cdn.plot.ly/plotly-2.2.0.min']\n",
       "            }\n",
       "        });\n",
       "        require(['plotly'], function(Plotly) {\n",
       "            window._Plotly = Plotly;\n",
       "        });\n",
       "        }\n",
       "        </script>\n",
       "        "
      ]
     },
     "metadata": {},
     "output_type": "display_data"
    }
   ],
   "source": [
    "from transformers import AutoTokenizer, AutoModelForSeq2SeqLM, AutoModel\n",
    "\n",
    "from datasets import load_dataset\n",
    "\n",
    "import torch \n",
    "\n",
    "# Usual imports\n",
    "import numpy as np\n",
    "import pandas as pd\n",
    "from tqdm import tqdm\n",
    "import string\n",
    "import matplotlib.pyplot as plt\n",
    "from sklearn.decomposition import NMF, LatentDirichletAllocation, TruncatedSVD\n",
    "from sklearn.feature_extraction.text import CountVectorizer\n",
    "from sklearn.manifold import TSNE\n",
    "import concurrent.futures\n",
    "import time\n",
    "import pyLDAvis.sklearn\n",
    "from pylab import bone, pcolor, colorbar, plot, show, rcParams, savefig\n",
    "import warnings\n",
    "warnings.filterwarnings('ignore')\n",
    "\n",
    "%matplotlib inline\n",
    "import os\n",
    "\n",
    "# Plotly based imports for visualization\n",
    "from plotly import tools\n",
    "import chart_studio.plotly as py\n",
    "from plotly.offline import init_notebook_mode, iplot\n",
    "init_notebook_mode(connected=True)\n",
    "import plotly.graph_objs as go\n",
    "import plotly.figure_factory as ff\n",
    "\n",
    "# spaCy based imports\n",
    "import spacy\n",
    "from spacy.lang.en.stop_words import STOP_WORDS\n",
    "from spacy.lang.en import English\n",
    "from spacy import displacy"
   ]
  },
  {
   "cell_type": "markdown",
   "id": "a733e064",
   "metadata": {},
   "source": [
    "# **2. Definición de funciones**"
   ]
  },
  {
   "cell_type": "markdown",
   "id": "12715abe",
   "metadata": {},
   "source": [
    "## **2.1. Carga del texto de entrada**"
   ]
  },
  {
   "cell_type": "code",
   "execution_count": 2,
   "id": "62455737",
   "metadata": {},
   "outputs": [],
   "source": [
    "def load_corpus(data_files, ext_type='csv'):\n",
    "    '''\n",
    "    '''\n",
    "    return load_dataset(ext_type, data_files=data_files)"
   ]
  },
  {
   "cell_type": "code",
   "execution_count": 3,
   "id": "fc2079f0",
   "metadata": {},
   "outputs": [],
   "source": [
    "def filter_corpus(corpus, element, filter_with):\n",
    "    '''\n",
    "    '''\n",
    "    return corpus.filter(lambda filtered_corpus: filtered_corpus[element].startswith(filter_with))"
   ]
  },
  {
   "cell_type": "code",
   "execution_count": 4,
   "id": "173529fb",
   "metadata": {},
   "outputs": [],
   "source": [
    "def get_script_episode(corpus, season, episode):\n",
    "    '''\n",
    "    '''\n",
    "    data_season = filter_corpus(corpus,'Season', season)\n",
    "    return filter_corpus(data_season,'Episode', episode)"
   ]
  },
  {
   "cell_type": "code",
   "execution_count": 5,
   "id": "860535e9",
   "metadata": {},
   "outputs": [],
   "source": [
    "def get_full_text(input_text):\n",
    "    return ''.join(input_text)"
   ]
  },
  {
   "cell_type": "markdown",
   "id": "71967a10",
   "metadata": {},
   "source": [
    "## **2.2. Procesamiento del texto de entrada**"
   ]
  },
  {
   "cell_type": "code",
   "execution_count": 6,
   "id": "614064d2",
   "metadata": {},
   "outputs": [],
   "source": [
    "def get_summary(input_text, model_name='sshleifer/distilbart-cnn-12-6'):\n",
    "    '''\n",
    "    Models: \"sshleifer/distilbart-xsum-12-3\", \"google/pegasus-xsum\"\n",
    "    '''\n",
    "    tokenizer = AutoTokenizer.from_pretrained(model_name)\n",
    "    model = AutoModelForSeq2SeqLM.from_pretrained(model_name)\n",
    "    # encode input context\n",
    "    input_ids = tokenizer(input_text, truncation=True, padding=True, return_tensors=\"pt\").input_ids\n",
    "    # generate summary\n",
    "    outputs = model.generate(input_ids=input_ids)\n",
    "    # decode summary \n",
    "    return tokenizer.batch_decode(outputs, skip_special_tokens=True)"
   ]
  },
  {
   "cell_type": "code",
   "execution_count": 7,
   "id": "55570926",
   "metadata": {},
   "outputs": [],
   "source": [
    "def show_entities(input_text):\n",
    "    displacy.render(nlp(input_text), style=\"ent\")"
   ]
  },
  {
   "cell_type": "code",
   "execution_count": 8,
   "id": "13ee29f8",
   "metadata": {},
   "outputs": [],
   "source": [
    "def spacy_tokenizer(sentence):\n",
    "    parser = English()\n",
    "    mytokens = parser(sentence)\n",
    "    mytokens = [word.lower_ for word in mytokens]\n",
    "    #mytokens = [word.lemma_.lower().strip() if word.lemma_ != \"PRON\" else word.lower_ for word in mytokens]\n",
    "    mytokens = [word for word in mytokens if word not in stopwords and word not in punctuations]\n",
    "    mytokens = \" \".join([i for i in mytokens])\n",
    "    return mytokens"
   ]
  },
  {
   "cell_type": "markdown",
   "id": "62bdc735",
   "metadata": {},
   "source": [
    "# **3. Procesamiento de un script de ejemplo de _Game of Thrones_**\n",
    "\n",
    "*Source: https://www.kaggle.com/thebrownviking20/topic-modelling-with-spacy-and-scikit-learn/notebook?select=winemag-data_first150k.csv*"
   ]
  },
  {
   "cell_type": "code",
   "execution_count": 9,
   "id": "1f4158fe",
   "metadata": {},
   "outputs": [
    {
     "name": "stderr",
     "output_type": "stream",
     "text": [
      "Using custom data configuration default-6267e762714f0fd0\n",
      "Reusing dataset csv (/Users/andreea/.cache/huggingface/datasets/csv/default-6267e762714f0fd0/0.0.0/9144e0a4e8435090117cea53e6c7537173ef2304525df4a077c435d8ee7828ff)\n",
      "Loading cached processed dataset at /Users/andreea/.cache/huggingface/datasets/csv/default-6267e762714f0fd0/0.0.0/9144e0a4e8435090117cea53e6c7537173ef2304525df4a077c435d8ee7828ff/cache-05842c71d6ab9f3e.arrow\n",
      "Loading cached processed dataset at /Users/andreea/.cache/huggingface/datasets/csv/default-6267e762714f0fd0/0.0.0/9144e0a4e8435090117cea53e6c7537173ef2304525df4a077c435d8ee7828ff/cache-80a1cce4dbd0b731.arrow\n",
      "Loading cached processed dataset at /Users/andreea/.cache/huggingface/datasets/csv/default-6267e762714f0fd0/0.0.0/9144e0a4e8435090117cea53e6c7537173ef2304525df4a077c435d8ee7828ff/cache-05842c71d6ab9f3e.arrow\n",
      "Loading cached processed dataset at /Users/andreea/.cache/huggingface/datasets/csv/default-6267e762714f0fd0/0.0.0/9144e0a4e8435090117cea53e6c7537173ef2304525df4a077c435d8ee7828ff/cache-80a1cce4dbd0b731.arrow\n",
      "Using custom data configuration default-7568e6303835c9eb\n",
      "Reusing dataset csv (/Users/andreea/.cache/huggingface/datasets/csv/default-7568e6303835c9eb/0.0.0/9144e0a4e8435090117cea53e6c7537173ef2304525df4a077c435d8ee7828ff)\n"
     ]
    }
   ],
   "source": [
    "# Loading data\n",
    "corpus = load_corpus(\"qubartCode/corpus/Game_Of_Thrones_Script.csv\")['train']\n",
    "s1_ep2 = get_full_text(get_script_episode(corpus, 'Season 1', 'Episode 2')['Sentence'])\n",
    "s1_ep2_names = ''\n",
    "for row in get_script_episode(corpus, 'Season 1', 'Episode 2'):\n",
    "    line = f\"{row['Name'].capitalize()}: {row['Sentence']}\"\n",
    "    s1_ep2_names = s1_ep2_names + \" \" + line\n",
    "corpus_reviews = load_corpus(\"qubartCode/corpus/GameOfThrones_Reviews.csv\")['train']"
   ]
  },
  {
   "cell_type": "code",
   "execution_count": 60,
   "id": "3cfe3712",
   "metadata": {},
   "outputs": [
    {
     "data": {
      "text/plain": [
       "'Another wedding, another horrific death scene. The shocking ending of “The Lion and the Rose” sets up the Lannister family breakdown that plays out over the rest of season 4.In the woods surrounding the Dreadfort, Ramsay forces Theon, who he now exclusively refers to as Reek, to accompany him and his lover, Myranda (Charlotte Hope), on a hunt with his dogs. However, much to Theon’s horror, the prey is not an animal, but rather a servant girl that Ramsay and Myranda have grown tired of playing with.Later, Roose Bolton arrives at the Dreadfort with his new wife Walda (Elizabeth Webster), a granddaughter of Walder Frey, and Locke. At first, Roose is infuriated that Ramsay has both physically and psychologically tortured Theon, who Roose sees as a valuable hostage. But when Ramsay proves that he has completely broken Theon by revealing to him that Robb was murdered at the Red Wedding while allowing Theon to shave him with a sharp razor, Roose seems to come around to Ramsay’s methods. Ramsay also coaxes Theon into telling Roose that Bran and Rickon are still alive and that Jon may know where they are, prompting Roose to send Locke to Castle Black to suss out the boys’ location and kill them. Roose then orders Ramsay to take Theon and an army and reclaim Moat Cailin, an ironborn-controlled fortress on the border between the North and the Riverlands. He tells Ramsay that he will consider legitimizing him as a Bolton if he is successful.\\n\\nMeanwhile, Bran is struggling with the increasingly blurred lines between his own mind and that of his direwolf, Summer, as he continues to test out his warging abilities. Jojen and Meera caution him that if he spends too long in Summer’s mind, he will get lost and not be able to find his way back to himself. When the group happens upon a weirwood tree, Bran places his hand on its trunk and experiences a series of rapid-fire visions — including glimpses of the three-eyed raven, his father, a snowy Iron Throne in the remains of the Red Keep’s ruined throne room, the fall that paralyzed him, the shadow of a dragon flying over King’s Landing, and a giant weirwood tree — and hears a male voice say, “Look for me, beneath the tree. North.”When Bran comes out of his trance, he tells the rest of the group that he knows where they have to go.At Dragonstone, Davos looks away but remains silent as Melisandre burns three people — including Selyse’s own brother — to death as sacrifices to the Lord of Light. At a dinner following the ceremony, Stannis and Selyse argue over their daughter, Shireen, and Stannis prohibits Selyse from beating her. Selyse suggests that Melisandre should talk to Shireen instead and Melisandre agrees. When Melisandre goes to Shireen’s room that night, Shireen makes it clear that she doesn’t approve of Melisandre’s human sacrifices while Melisandre continues to wax poetic about the Lord of Light.In King’s Landing, Jaime confides in Tyrion that his missing sword hand has made him feel useless as Lord Commander of the Kingsguard, so Tyrion recruits Bronn to begin secretly training Jaime to fight with his left.On the day of Joffrey and Margaery’s wedding, Varys warns Tyrion that Cersei has learned Shae’s identity and that he can no longer do anything to protect her. Fearing his sister and father’s wrath, Tyrion resorts to convincing a distraught Shae that he could never love a whore in order to ensure that she boards a ship that is bound for the free city of Pentos.\\n\\nAt a breakfast leading up to the wedding, Tywin gifts Joffrey with the second Valyrian steel sword that he forged from Ice. Unable to resist an opportunity to torment his uncle, Joffrey promptly uses it to slash apart the rare book that Tyrion presented to him moments before. Joffrey dubs the sword “Widow’s Wail.”After the wedding ceremony, all of King’s Landing’s main players — including Tywin, Cersei, Jaime, Tyrion, Sansa, Oberyn, Ellaria, Olenna, Loras, Margaery and Joffrey — head outside to the gardens for a feast, where they trade barbs with each other throughout the day. But it’s Joffrey, of course, who takes things too far by putting on a crude and offensive reenactment of the War of the Five Kings that stars five dwarves. The tension between Joffrey and Tyrion continues to build when Joffrey orders Tyrion to be his cupbearer and to kneel before him, a command that Tyrion refuses. However, the wedding pie is brought out just in time to diffuse the situation. That is, until Joffrey takes another sip of wine to wash down his food and begins horrifically choking.As Joffrey lies on the ground dying, Ser Dontos Hollard appears out of nowhere and tells Sansa to come with him if she wants to live. Thankfully, Sansa doesn’t hesitate and flees the scene unnoticed. Cersei is hysterical as her son gasps his last breaths and becomes even more so when he raises a hand to point to Tyrion, who is examining Joffrey’s wine glass. She orders the Kingsguard to seize Tyrion for poisoning Joffrey and the Purple Wedding comes to a close.Finally, a Game of Thrones death that’s a crowd-pleaser.'"
      ]
     },
     "execution_count": 60,
     "metadata": {},
     "output_type": "execute_result"
    }
   ],
   "source": [
    "corpus_reviews['Episode recap'][30]"
   ]
  },
  {
   "cell_type": "code",
   "execution_count": 11,
   "id": "c6dad24a",
   "metadata": {},
   "outputs": [
    {
     "data": {
      "text/plain": [
       "Dataset({\n",
       "    features: ['Release Date', 'Season', 'Episode', 'Episode Title', 'Name', 'Sentence'],\n",
       "    num_rows: 23911\n",
       "})"
      ]
     },
     "execution_count": 11,
     "metadata": {},
     "output_type": "execute_result"
    }
   ],
   "source": [
    "corpus"
   ]
  },
  {
   "cell_type": "code",
   "execution_count": 12,
   "id": "189a63d0",
   "metadata": {},
   "outputs": [],
   "source": [
    "nlp = spacy.load(\"en_core_web_sm\")"
   ]
  },
  {
   "cell_type": "code",
   "execution_count": 13,
   "id": "d8cd0f4b",
   "metadata": {},
   "outputs": [],
   "source": [
    "# Creating a spaCy object\n",
    "nlp = spacy.load('en_core_web_lg')"
   ]
  },
  {
   "cell_type": "code",
   "execution_count": 14,
   "id": "19fb3579",
   "metadata": {
    "tags": []
   },
   "outputs": [
    {
     "data": {
      "text/html": [
       "<span class=\"tex2jax_ignore\"><div class=\"entities\" style=\"line-height: 2.5; direction: ltr\">Although \n",
       "<mark class=\"entity\" style=\"background: #aa9cfc; padding: 0.45em 0.6em; margin: 0 0.25em; line-height: 1; border-radius: 0.35em;\">\n",
       "    Jon Snow\n",
       "    <span style=\"font-size: 0.8em; font-weight: bold; line-height: 1; border-radius: 0.35em; vertical-align: middle; margin-left: 0.5rem\">PERSON</span>\n",
       "</mark>\n",
       " (\n",
       "<mark class=\"entity\" style=\"background: #aa9cfc; padding: 0.45em 0.6em; margin: 0 0.25em; line-height: 1; border-radius: 0.35em;\">\n",
       "    Kit Harington\n",
       "    <span style=\"font-size: 0.8em; font-weight: bold; line-height: 1; border-radius: 0.35em; vertical-align: middle; margin-left: 0.5rem\">PERSON</span>\n",
       "</mark>\n",
       "), who we know as the illegitimate son of \n",
       "<mark class=\"entity\" style=\"background: #aa9cfc; padding: 0.45em 0.6em; margin: 0 0.25em; line-height: 1; border-radius: 0.35em;\">\n",
       "    Ned\n",
       "    <span style=\"font-size: 0.8em; font-weight: bold; line-height: 1; border-radius: 0.35em; vertical-align: middle; margin-left: 0.5rem\">PERSON</span>\n",
       "</mark>\n",
       " and a random, unknown woman, was introduced in the pilot, his storyline doesn’t really pick up until the \n",
       "<mark class=\"entity\" style=\"background: #e4e7d2; padding: 0.45em 0.6em; margin: 0 0.25em; line-height: 1; border-radius: 0.35em;\">\n",
       "    second\n",
       "    <span style=\"font-size: 0.8em; font-weight: bold; line-height: 1; border-radius: 0.35em; vertical-align: middle; margin-left: 0.5rem\">ORDINAL</span>\n",
       "</mark>\n",
       " episode. After gifting his \n",
       "<mark class=\"entity\" style=\"background: #e4e7d2; padding: 0.45em 0.6em; margin: 0 0.25em; line-height: 1; border-radius: 0.35em;\">\n",
       "    half\n",
       "    <span style=\"font-size: 0.8em; font-weight: bold; line-height: 1; border-radius: 0.35em; vertical-align: middle; margin-left: 0.5rem\">CARDINAL</span>\n",
       "</mark>\n",
       "-sister \n",
       "<mark class=\"entity\" style=\"background: #aa9cfc; padding: 0.45em 0.6em; margin: 0 0.25em; line-height: 1; border-radius: 0.35em;\">\n",
       "    Arya\n",
       "    <span style=\"font-size: 0.8em; font-weight: bold; line-height: 1; border-radius: 0.35em; vertical-align: middle; margin-left: 0.5rem\">PERSON</span>\n",
       "</mark>\n",
       " (\n",
       "<mark class=\"entity\" style=\"background: #aa9cfc; padding: 0.45em 0.6em; margin: 0 0.25em; line-height: 1; border-radius: 0.35em;\">\n",
       "    Maisie Williams\n",
       "    <span style=\"font-size: 0.8em; font-weight: bold; line-height: 1; border-radius: 0.35em; vertical-align: middle; margin-left: 0.5rem\">PERSON</span>\n",
       "</mark>\n",
       ") with a small sword that she dubs “Needle,” \n",
       "<mark class=\"entity\" style=\"background: #aa9cfc; padding: 0.45em 0.6em; margin: 0 0.25em; line-height: 1; border-radius: 0.35em;\">\n",
       "    Jon\n",
       "    <span style=\"font-size: 0.8em; font-weight: bold; line-height: 1; border-radius: 0.35em; vertical-align: middle; margin-left: 0.5rem\">PERSON</span>\n",
       "</mark>\n",
       " leaves for the Wall, a \n",
       "<mark class=\"entity\" style=\"background: #e4e7d2; padding: 0.45em 0.6em; margin: 0 0.25em; line-height: 1; border-radius: 0.35em;\">\n",
       "    700-foot\n",
       "    <span style=\"font-size: 0.8em; font-weight: bold; line-height: 1; border-radius: 0.35em; vertical-align: middle; margin-left: 0.5rem\">QUANTITY</span>\n",
       "</mark>\n",
       " tall, \n",
       "<mark class=\"entity\" style=\"background: #e4e7d2; padding: 0.45em 0.6em; margin: 0 0.25em; line-height: 1; border-radius: 0.35em;\">\n",
       "    300-foot\n",
       "    <span style=\"font-size: 0.8em; font-weight: bold; line-height: 1; border-radius: 0.35em; vertical-align: middle; margin-left: 0.5rem\">QUANTITY</span>\n",
       "</mark>\n",
       " thick barrier of ice that spans \n",
       "<mark class=\"entity\" style=\"background: #e4e7d2; padding: 0.45em 0.6em; margin: 0 0.25em; line-height: 1; border-radius: 0.35em;\">\n",
       "    all 300 miles\n",
       "    <span style=\"font-size: 0.8em; font-weight: bold; line-height: 1; border-radius: 0.35em; vertical-align: middle; margin-left: 0.5rem\">QUANTITY</span>\n",
       "</mark>\n",
       " of \n",
       "<mark class=\"entity\" style=\"background: #7aecec; padding: 0.45em 0.6em; margin: 0 0.25em; line-height: 1; border-radius: 0.35em;\">\n",
       "    Westeros’\n",
       "    <span style=\"font-size: 0.8em; font-weight: bold; line-height: 1; border-radius: 0.35em; vertical-align: middle; margin-left: 0.5rem\">ORG</span>\n",
       "</mark>\n",
       " northern border, with his \n",
       "<mark class=\"entity\" style=\"background: #aa9cfc; padding: 0.45em 0.6em; margin: 0 0.25em; line-height: 1; border-radius: 0.35em;\">\n",
       "    Uncle Benjen\n",
       "    <span style=\"font-size: 0.8em; font-weight: bold; line-height: 1; border-radius: 0.35em; vertical-align: middle; margin-left: 0.5rem\">PERSON</span>\n",
       "</mark>\n",
       " (\n",
       "<mark class=\"entity\" style=\"background: #aa9cfc; padding: 0.45em 0.6em; margin: 0 0.25em; line-height: 1; border-radius: 0.35em;\">\n",
       "    Joseph Mawle\n",
       "    <span style=\"font-size: 0.8em; font-weight: bold; line-height: 1; border-radius: 0.35em; vertical-align: middle; margin-left: 0.5rem\">PERSON</span>\n",
       "</mark>\n",
       ") and \n",
       "<mark class=\"entity\" style=\"background: #aa9cfc; padding: 0.45em 0.6em; margin: 0 0.25em; line-height: 1; border-radius: 0.35em;\">\n",
       "    Tyrion Lannister\n",
       "    <span style=\"font-size: 0.8em; font-weight: bold; line-height: 1; border-radius: 0.35em; vertical-align: middle; margin-left: 0.5rem\">PERSON</span>\n",
       "</mark>\n",
       " (\n",
       "<mark class=\"entity\" style=\"background: #aa9cfc; padding: 0.45em 0.6em; margin: 0 0.25em; line-height: 1; border-radius: 0.35em;\">\n",
       "    Peter Dinklage\n",
       "    <span style=\"font-size: 0.8em; font-weight: bold; line-height: 1; border-radius: 0.35em; vertical-align: middle; margin-left: 0.5rem\">PERSON</span>\n",
       "</mark>\n",
       ").</br></br>\n",
       "<mark class=\"entity\" style=\"background: #aa9cfc; padding: 0.45em 0.6em; margin: 0 0.25em; line-height: 1; border-radius: 0.35em;\">\n",
       "    Jon\n",
       "    <span style=\"font-size: 0.8em; font-weight: bold; line-height: 1; border-radius: 0.35em; vertical-align: middle; margin-left: 0.5rem\">PERSON</span>\n",
       "</mark>\n",
       " intends to join \n",
       "<mark class=\"entity\" style=\"background: #7aecec; padding: 0.45em 0.6em; margin: 0 0.25em; line-height: 1; border-radius: 0.35em;\">\n",
       "    the Night’s Watch\n",
       "    <span style=\"font-size: 0.8em; font-weight: bold; line-height: 1; border-radius: 0.35em; vertical-align: middle; margin-left: 0.5rem\">ORG</span>\n",
       "</mark>\n",
       ", an order of men who guard the Wall and protect the \n",
       "<mark class=\"entity\" style=\"background: #e4e7d2; padding: 0.45em 0.6em; margin: 0 0.25em; line-height: 1; border-radius: 0.35em;\">\n",
       "    Seven\n",
       "    <span style=\"font-size: 0.8em; font-weight: bold; line-height: 1; border-radius: 0.35em; vertical-align: middle; margin-left: 0.5rem\">CARDINAL</span>\n",
       "</mark>\n",
       " Kingdoms from invaders. But \n",
       "<mark class=\"entity\" style=\"background: #e4e7d2; padding: 0.45em 0.6em; margin: 0 0.25em; line-height: 1; border-radius: 0.35em;\">\n",
       "    first\n",
       "    <span style=\"font-size: 0.8em; font-weight: bold; line-height: 1; border-radius: 0.35em; vertical-align: middle; margin-left: 0.5rem\">ORDINAL</span>\n",
       "</mark>\n",
       ", he makes \n",
       "<mark class=\"entity\" style=\"background: #e4e7d2; padding: 0.45em 0.6em; margin: 0 0.25em; line-height: 1; border-radius: 0.35em;\">\n",
       "    one\n",
       "    <span style=\"font-size: 0.8em; font-weight: bold; line-height: 1; border-radius: 0.35em; vertical-align: middle; margin-left: 0.5rem\">CARDINAL</span>\n",
       "</mark>\n",
       " last (unsuccessful) attempt to question \n",
       "<mark class=\"entity\" style=\"background: #aa9cfc; padding: 0.45em 0.6em; margin: 0 0.25em; line-height: 1; border-radius: 0.35em;\">\n",
       "    Ned\n",
       "    <span style=\"font-size: 0.8em; font-weight: bold; line-height: 1; border-radius: 0.35em; vertical-align: middle; margin-left: 0.5rem\">PERSON</span>\n",
       "</mark>\n",
       " about the identity of his mother ahead of \n",
       "<mark class=\"entity\" style=\"background: #aa9cfc; padding: 0.45em 0.6em; margin: 0 0.25em; line-height: 1; border-radius: 0.35em;\">\n",
       "    Ned\n",
       "    <span style=\"font-size: 0.8em; font-weight: bold; line-height: 1; border-radius: 0.35em; vertical-align: middle; margin-left: 0.5rem\">PERSON</span>\n",
       "</mark>\n",
       "’s departure for King’s Landing.While traveling south with their father, \n",
       "<mark class=\"entity\" style=\"background: #aa9cfc; padding: 0.45em 0.6em; margin: 0 0.25em; line-height: 1; border-radius: 0.35em;\">\n",
       "    Arya\n",
       "    <span style=\"font-size: 0.8em; font-weight: bold; line-height: 1; border-radius: 0.35em; vertical-align: middle; margin-left: 0.5rem\">PERSON</span>\n",
       "</mark>\n",
       " and \n",
       "<mark class=\"entity\" style=\"background: #aa9cfc; padding: 0.45em 0.6em; margin: 0 0.25em; line-height: 1; border-radius: 0.35em;\">\n",
       "    Sansa Stark\n",
       "    <span style=\"font-size: 0.8em; font-weight: bold; line-height: 1; border-radius: 0.35em; vertical-align: middle; margin-left: 0.5rem\">PERSON</span>\n",
       "</mark>\n",
       " (\n",
       "<mark class=\"entity\" style=\"background: #aa9cfc; padding: 0.45em 0.6em; margin: 0 0.25em; line-height: 1; border-radius: 0.35em;\">\n",
       "    Sophie Turner\n",
       "    <span style=\"font-size: 0.8em; font-weight: bold; line-height: 1; border-radius: 0.35em; vertical-align: middle; margin-left: 0.5rem\">PERSON</span>\n",
       "</mark>\n",
       ") find themselves in the midst of an altercation with \n",
       "<mark class=\"entity\" style=\"background: #aa9cfc; padding: 0.45em 0.6em; margin: 0 0.25em; line-height: 1; border-radius: 0.35em;\">\n",
       "    Prince Joffrey Baratheon\n",
       "    <span style=\"font-size: 0.8em; font-weight: bold; line-height: 1; border-radius: 0.35em; vertical-align: middle; margin-left: 0.5rem\">PERSON</span>\n",
       "</mark>\n",
       " (\n",
       "<mark class=\"entity\" style=\"background: #aa9cfc; padding: 0.45em 0.6em; margin: 0 0.25em; line-height: 1; border-radius: 0.35em;\">\n",
       "    Jack Gleeson\n",
       "    <span style=\"font-size: 0.8em; font-weight: bold; line-height: 1; border-radius: 0.35em; vertical-align: middle; margin-left: 0.5rem\">PERSON</span>\n",
       "</mark>\n",
       ") that leads to the deaths of both \n",
       "<mark class=\"entity\" style=\"background: #aa9cfc; padding: 0.45em 0.6em; margin: 0 0.25em; line-height: 1; border-radius: 0.35em;\">\n",
       "    Arya\n",
       "    <span style=\"font-size: 0.8em; font-weight: bold; line-height: 1; border-radius: 0.35em; vertical-align: middle; margin-left: 0.5rem\">PERSON</span>\n",
       "</mark>\n",
       "’s friend \n",
       "<mark class=\"entity\" style=\"background: #aa9cfc; padding: 0.45em 0.6em; margin: 0 0.25em; line-height: 1; border-radius: 0.35em;\">\n",
       "    Mycah\n",
       "    <span style=\"font-size: 0.8em; font-weight: bold; line-height: 1; border-radius: 0.35em; vertical-align: middle; margin-left: 0.5rem\">PERSON</span>\n",
       "</mark>\n",
       " (\n",
       "<mark class=\"entity\" style=\"background: #aa9cfc; padding: 0.45em 0.6em; margin: 0 0.25em; line-height: 1; border-radius: 0.35em;\">\n",
       "    Rhodri Hosking\n",
       "    <span style=\"font-size: 0.8em; font-weight: bold; line-height: 1; border-radius: 0.35em; vertical-align: middle; margin-left: 0.5rem\">PERSON</span>\n",
       "</mark>\n",
       "), the butcher’s boy, and \n",
       "<mark class=\"entity\" style=\"background: #7aecec; padding: 0.45em 0.6em; margin: 0 0.25em; line-height: 1; border-radius: 0.35em;\">\n",
       "    Sansa\n",
       "    <span style=\"font-size: 0.8em; font-weight: bold; line-height: 1; border-radius: 0.35em; vertical-align: middle; margin-left: 0.5rem\">ORG</span>\n",
       "</mark>\n",
       "’s direwolf, \n",
       "<mark class=\"entity\" style=\"background: #aa9cfc; padding: 0.45em 0.6em; margin: 0 0.25em; line-height: 1; border-radius: 0.35em;\">\n",
       "    Lady\n",
       "    <span style=\"font-size: 0.8em; font-weight: bold; line-height: 1; border-radius: 0.35em; vertical-align: middle; margin-left: 0.5rem\">PERSON</span>\n",
       "</mark>\n",
       ". Luckily, \n",
       "<mark class=\"entity\" style=\"background: #aa9cfc; padding: 0.45em 0.6em; margin: 0 0.25em; line-height: 1; border-radius: 0.35em;\">\n",
       "    Arya\n",
       "    <span style=\"font-size: 0.8em; font-weight: bold; line-height: 1; border-radius: 0.35em; vertical-align: middle; margin-left: 0.5rem\">PERSON</span>\n",
       "</mark>\n",
       " is able to set her own direwolf, \n",
       "<mark class=\"entity\" style=\"background: #feca74; padding: 0.45em 0.6em; margin: 0 0.25em; line-height: 1; border-radius: 0.35em;\">\n",
       "    Nymeria\n",
       "    <span style=\"font-size: 0.8em; font-weight: bold; line-height: 1; border-radius: 0.35em; vertical-align: middle; margin-left: 0.5rem\">GPE</span>\n",
       "</mark>\n",
       ", loose in the wild before any harm can come to her. Elsewhere, \n",
       "<mark class=\"entity\" style=\"background: #7aecec; padding: 0.45em 0.6em; margin: 0 0.25em; line-height: 1; border-radius: 0.35em;\">\n",
       "    Daenerys\n",
       "    <span style=\"font-size: 0.8em; font-weight: bold; line-height: 1; border-radius: 0.35em; vertical-align: middle; margin-left: 0.5rem\">ORG</span>\n",
       "</mark>\n",
       " finds a way to connect with her new husband and \n",
       "<mark class=\"entity\" style=\"background: #aa9cfc; padding: 0.45em 0.6em; margin: 0 0.25em; line-height: 1; border-radius: 0.35em;\">\n",
       "    Bran\n",
       "    <span style=\"font-size: 0.8em; font-weight: bold; line-height: 1; border-radius: 0.35em; vertical-align: middle; margin-left: 0.5rem\">PERSON</span>\n",
       "</mark>\n",
       " wakes up from the coma he has been in for \n",
       "<mark class=\"entity\" style=\"background: #bfe1d9; padding: 0.45em 0.6em; margin: 0 0.25em; line-height: 1; border-radius: 0.35em;\">\n",
       "    over a month\n",
       "    <span style=\"font-size: 0.8em; font-weight: bold; line-height: 1; border-radius: 0.35em; vertical-align: middle; margin-left: 0.5rem\">DATE</span>\n",
       "</mark>\n",
       ".</div></span>"
      ],
      "text/plain": [
       "<IPython.core.display.HTML object>"
      ]
     },
     "metadata": {},
     "output_type": "display_data"
    }
   ],
   "source": [
    "doc = nlp(corpus_reviews['Episode recap'][1])\n",
    "spacy.displacy.render(doc, style='ent',jupyter=True)"
   ]
  },
  {
   "cell_type": "code",
   "execution_count": 15,
   "id": "1fc3759e",
   "metadata": {},
   "outputs": [],
   "source": [
    "punctuations = string.punctuation\n",
    "stopwords = list(STOP_WORDS)"
   ]
  },
  {
   "cell_type": "code",
   "execution_count": 16,
   "id": "3b10fe44",
   "metadata": {},
   "outputs": [],
   "source": [
    "review = str(\" \".join([i.lemma_ for i in doc]))"
   ]
  },
  {
   "cell_type": "code",
   "execution_count": 17,
   "id": "da7cb5c3",
   "metadata": {
    "tags": []
   },
   "outputs": [
    {
     "data": {
      "text/html": [
       "<span class=\"tex2jax_ignore\"><div class=\"entities\" style=\"line-height: 2.5; direction: ltr\">although \n",
       "<mark class=\"entity\" style=\"background: #aa9cfc; padding: 0.45em 0.6em; margin: 0 0.25em; line-height: 1; border-radius: 0.35em;\">\n",
       "    Jon Snow\n",
       "    <span style=\"font-size: 0.8em; font-weight: bold; line-height: 1; border-radius: 0.35em; vertical-align: middle; margin-left: 0.5rem\">PERSON</span>\n",
       "</mark>\n",
       " ( \n",
       "<mark class=\"entity\" style=\"background: #aa9cfc; padding: 0.45em 0.6em; margin: 0 0.25em; line-height: 1; border-radius: 0.35em;\">\n",
       "    Kit Harington\n",
       "    <span style=\"font-size: 0.8em; font-weight: bold; line-height: 1; border-radius: 0.35em; vertical-align: middle; margin-left: 0.5rem\">PERSON</span>\n",
       "</mark>\n",
       " ) , who we know as the illegitimate son of \n",
       "<mark class=\"entity\" style=\"background: #aa9cfc; padding: 0.45em 0.6em; margin: 0 0.25em; line-height: 1; border-radius: 0.35em;\">\n",
       "    Ned\n",
       "    <span style=\"font-size: 0.8em; font-weight: bold; line-height: 1; border-radius: 0.35em; vertical-align: middle; margin-left: 0.5rem\">PERSON</span>\n",
       "</mark>\n",
       " and a random , unknown woman , be introduce in the pilot , his storyline do n’t really pick up until the \n",
       "<mark class=\"entity\" style=\"background: #e4e7d2; padding: 0.45em 0.6em; margin: 0 0.25em; line-height: 1; border-radius: 0.35em;\">\n",
       "    second\n",
       "    <span style=\"font-size: 0.8em; font-weight: bold; line-height: 1; border-radius: 0.35em; vertical-align: middle; margin-left: 0.5rem\">ORDINAL</span>\n",
       "</mark>\n",
       " episode . after gift his \n",
       "<mark class=\"entity\" style=\"background: #e4e7d2; padding: 0.45em 0.6em; margin: 0 0.25em; line-height: 1; border-radius: 0.35em;\">\n",
       "    half\n",
       "    <span style=\"font-size: 0.8em; font-weight: bold; line-height: 1; border-radius: 0.35em; vertical-align: middle; margin-left: 0.5rem\">CARDINAL</span>\n",
       "</mark>\n",
       " - sister \n",
       "<mark class=\"entity\" style=\"background: #aa9cfc; padding: 0.45em 0.6em; margin: 0 0.25em; line-height: 1; border-radius: 0.35em;\">\n",
       "    Arya\n",
       "    <span style=\"font-size: 0.8em; font-weight: bold; line-height: 1; border-radius: 0.35em; vertical-align: middle; margin-left: 0.5rem\">PERSON</span>\n",
       "</mark>\n",
       " ( \n",
       "<mark class=\"entity\" style=\"background: #aa9cfc; padding: 0.45em 0.6em; margin: 0 0.25em; line-height: 1; border-radius: 0.35em;\">\n",
       "    Maisie Williams\n",
       "    <span style=\"font-size: 0.8em; font-weight: bold; line-height: 1; border-radius: 0.35em; vertical-align: middle; margin-left: 0.5rem\">PERSON</span>\n",
       "</mark>\n",
       " ) with a small sword that she dub &quot; Needle , &quot; \n",
       "<mark class=\"entity\" style=\"background: #aa9cfc; padding: 0.45em 0.6em; margin: 0 0.25em; line-height: 1; border-radius: 0.35em;\">\n",
       "    Jon\n",
       "    <span style=\"font-size: 0.8em; font-weight: bold; line-height: 1; border-radius: 0.35em; vertical-align: middle; margin-left: 0.5rem\">PERSON</span>\n",
       "</mark>\n",
       " leave for the Wall , a \n",
       "<mark class=\"entity\" style=\"background: #e4e7d2; padding: 0.45em 0.6em; margin: 0 0.25em; line-height: 1; border-radius: 0.35em;\">\n",
       "    700 - foot\n",
       "    <span style=\"font-size: 0.8em; font-weight: bold; line-height: 1; border-radius: 0.35em; vertical-align: middle; margin-left: 0.5rem\">QUANTITY</span>\n",
       "</mark>\n",
       " tall , \n",
       "<mark class=\"entity\" style=\"background: #e4e7d2; padding: 0.45em 0.6em; margin: 0 0.25em; line-height: 1; border-radius: 0.35em;\">\n",
       "    300 - foot\n",
       "    <span style=\"font-size: 0.8em; font-weight: bold; line-height: 1; border-radius: 0.35em; vertical-align: middle; margin-left: 0.5rem\">QUANTITY</span>\n",
       "</mark>\n",
       " thick barrier of ice that span \n",
       "<mark class=\"entity\" style=\"background: #e4e7d2; padding: 0.45em 0.6em; margin: 0 0.25em; line-height: 1; border-radius: 0.35em;\">\n",
       "    all 300 mile\n",
       "    <span style=\"font-size: 0.8em; font-weight: bold; line-height: 1; border-radius: 0.35em; vertical-align: middle; margin-left: 0.5rem\">QUANTITY</span>\n",
       "</mark>\n",
       " of \n",
       "<mark class=\"entity\" style=\"background: #7aecec; padding: 0.45em 0.6em; margin: 0 0.25em; line-height: 1; border-radius: 0.35em;\">\n",
       "    Westeros ’\n",
       "    <span style=\"font-size: 0.8em; font-weight: bold; line-height: 1; border-radius: 0.35em; vertical-align: middle; margin-left: 0.5rem\">ORG</span>\n",
       "</mark>\n",
       " northern border , with his \n",
       "<mark class=\"entity\" style=\"background: #aa9cfc; padding: 0.45em 0.6em; margin: 0 0.25em; line-height: 1; border-radius: 0.35em;\">\n",
       "    Uncle Benjen\n",
       "    <span style=\"font-size: 0.8em; font-weight: bold; line-height: 1; border-radius: 0.35em; vertical-align: middle; margin-left: 0.5rem\">PERSON</span>\n",
       "</mark>\n",
       " ( \n",
       "<mark class=\"entity\" style=\"background: #aa9cfc; padding: 0.45em 0.6em; margin: 0 0.25em; line-height: 1; border-radius: 0.35em;\">\n",
       "    Joseph Mawle\n",
       "    <span style=\"font-size: 0.8em; font-weight: bold; line-height: 1; border-radius: 0.35em; vertical-align: middle; margin-left: 0.5rem\">PERSON</span>\n",
       "</mark>\n",
       " ) and \n",
       "<mark class=\"entity\" style=\"background: #aa9cfc; padding: 0.45em 0.6em; margin: 0 0.25em; line-height: 1; border-radius: 0.35em;\">\n",
       "    Tyrion Lannister\n",
       "    <span style=\"font-size: 0.8em; font-weight: bold; line-height: 1; border-radius: 0.35em; vertical-align: middle; margin-left: 0.5rem\">PERSON</span>\n",
       "</mark>\n",
       " ( \n",
       "<mark class=\"entity\" style=\"background: #aa9cfc; padding: 0.45em 0.6em; margin: 0 0.25em; line-height: 1; border-radius: 0.35em;\">\n",
       "    Peter Dinklage\n",
       "    <span style=\"font-size: 0.8em; font-weight: bold; line-height: 1; border-radius: 0.35em; vertical-align: middle; margin-left: 0.5rem\">PERSON</span>\n",
       "</mark>\n",
       " ) . </br></br> \n",
       "<mark class=\"entity\" style=\"background: #aa9cfc; padding: 0.45em 0.6em; margin: 0 0.25em; line-height: 1; border-radius: 0.35em;\">\n",
       "    Jon\n",
       "    <span style=\"font-size: 0.8em; font-weight: bold; line-height: 1; border-radius: 0.35em; vertical-align: middle; margin-left: 0.5rem\">PERSON</span>\n",
       "</mark>\n",
       " intend to join \n",
       "<mark class=\"entity\" style=\"background: #f0d0ff; padding: 0.45em 0.6em; margin: 0 0.25em; line-height: 1; border-radius: 0.35em;\">\n",
       "    the Night ’s Watch\n",
       "    <span style=\"font-size: 0.8em; font-weight: bold; line-height: 1; border-radius: 0.35em; vertical-align: middle; margin-left: 0.5rem\">WORK_OF_ART</span>\n",
       "</mark>\n",
       " , an order of man who guard the Wall and protect the \n",
       "<mark class=\"entity\" style=\"background: #e4e7d2; padding: 0.45em 0.6em; margin: 0 0.25em; line-height: 1; border-radius: 0.35em;\">\n",
       "    Seven\n",
       "    <span style=\"font-size: 0.8em; font-weight: bold; line-height: 1; border-radius: 0.35em; vertical-align: middle; margin-left: 0.5rem\">CARDINAL</span>\n",
       "</mark>\n",
       " Kingdoms from invader . but \n",
       "<mark class=\"entity\" style=\"background: #e4e7d2; padding: 0.45em 0.6em; margin: 0 0.25em; line-height: 1; border-radius: 0.35em;\">\n",
       "    first\n",
       "    <span style=\"font-size: 0.8em; font-weight: bold; line-height: 1; border-radius: 0.35em; vertical-align: middle; margin-left: 0.5rem\">ORDINAL</span>\n",
       "</mark>\n",
       " , he make one last ( unsuccessful ) attempt to question \n",
       "<mark class=\"entity\" style=\"background: #aa9cfc; padding: 0.45em 0.6em; margin: 0 0.25em; line-height: 1; border-radius: 0.35em;\">\n",
       "    Ned\n",
       "    <span style=\"font-size: 0.8em; font-weight: bold; line-height: 1; border-radius: 0.35em; vertical-align: middle; margin-left: 0.5rem\">PERSON</span>\n",
       "</mark>\n",
       " about the identity of his mother ahead of \n",
       "<mark class=\"entity\" style=\"background: #aa9cfc; padding: 0.45em 0.6em; margin: 0 0.25em; line-height: 1; border-radius: 0.35em;\">\n",
       "    Ned\n",
       "    <span style=\"font-size: 0.8em; font-weight: bold; line-height: 1; border-radius: 0.35em; vertical-align: middle; margin-left: 0.5rem\">PERSON</span>\n",
       "</mark>\n",
       " ’s departure for King ’s Landing . while travel south with their father , \n",
       "<mark class=\"entity\" style=\"background: #aa9cfc; padding: 0.45em 0.6em; margin: 0 0.25em; line-height: 1; border-radius: 0.35em;\">\n",
       "    Arya\n",
       "    <span style=\"font-size: 0.8em; font-weight: bold; line-height: 1; border-radius: 0.35em; vertical-align: middle; margin-left: 0.5rem\">PERSON</span>\n",
       "</mark>\n",
       " and \n",
       "<mark class=\"entity\" style=\"background: #aa9cfc; padding: 0.45em 0.6em; margin: 0 0.25em; line-height: 1; border-radius: 0.35em;\">\n",
       "    Sansa Stark\n",
       "    <span style=\"font-size: 0.8em; font-weight: bold; line-height: 1; border-radius: 0.35em; vertical-align: middle; margin-left: 0.5rem\">PERSON</span>\n",
       "</mark>\n",
       " ( \n",
       "<mark class=\"entity\" style=\"background: #aa9cfc; padding: 0.45em 0.6em; margin: 0 0.25em; line-height: 1; border-radius: 0.35em;\">\n",
       "    Sophie Turner\n",
       "    <span style=\"font-size: 0.8em; font-weight: bold; line-height: 1; border-radius: 0.35em; vertical-align: middle; margin-left: 0.5rem\">PERSON</span>\n",
       "</mark>\n",
       " ) find themselves in the midst of an altercation with \n",
       "<mark class=\"entity\" style=\"background: #aa9cfc; padding: 0.45em 0.6em; margin: 0 0.25em; line-height: 1; border-radius: 0.35em;\">\n",
       "    Prince Joffrey Baratheon\n",
       "    <span style=\"font-size: 0.8em; font-weight: bold; line-height: 1; border-radius: 0.35em; vertical-align: middle; margin-left: 0.5rem\">PERSON</span>\n",
       "</mark>\n",
       " ( \n",
       "<mark class=\"entity\" style=\"background: #aa9cfc; padding: 0.45em 0.6em; margin: 0 0.25em; line-height: 1; border-radius: 0.35em;\">\n",
       "    Jack Gleeson\n",
       "    <span style=\"font-size: 0.8em; font-weight: bold; line-height: 1; border-radius: 0.35em; vertical-align: middle; margin-left: 0.5rem\">PERSON</span>\n",
       "</mark>\n",
       " ) that lead to the death of both \n",
       "<mark class=\"entity\" style=\"background: #aa9cfc; padding: 0.45em 0.6em; margin: 0 0.25em; line-height: 1; border-radius: 0.35em;\">\n",
       "    Arya\n",
       "    <span style=\"font-size: 0.8em; font-weight: bold; line-height: 1; border-radius: 0.35em; vertical-align: middle; margin-left: 0.5rem\">PERSON</span>\n",
       "</mark>\n",
       " ’s friend \n",
       "<mark class=\"entity\" style=\"background: #aa9cfc; padding: 0.45em 0.6em; margin: 0 0.25em; line-height: 1; border-radius: 0.35em;\">\n",
       "    Mycah\n",
       "    <span style=\"font-size: 0.8em; font-weight: bold; line-height: 1; border-radius: 0.35em; vertical-align: middle; margin-left: 0.5rem\">PERSON</span>\n",
       "</mark>\n",
       " ( \n",
       "<mark class=\"entity\" style=\"background: #aa9cfc; padding: 0.45em 0.6em; margin: 0 0.25em; line-height: 1; border-radius: 0.35em;\">\n",
       "    Rhodri Hosking\n",
       "    <span style=\"font-size: 0.8em; font-weight: bold; line-height: 1; border-radius: 0.35em; vertical-align: middle; margin-left: 0.5rem\">PERSON</span>\n",
       "</mark>\n",
       " ) , the butcher ’s boy , and \n",
       "<mark class=\"entity\" style=\"background: #7aecec; padding: 0.45em 0.6em; margin: 0 0.25em; line-height: 1; border-radius: 0.35em;\">\n",
       "    Sansa\n",
       "    <span style=\"font-size: 0.8em; font-weight: bold; line-height: 1; border-radius: 0.35em; vertical-align: middle; margin-left: 0.5rem\">ORG</span>\n",
       "</mark>\n",
       " ’s direwolf , \n",
       "<mark class=\"entity\" style=\"background: #aa9cfc; padding: 0.45em 0.6em; margin: 0 0.25em; line-height: 1; border-radius: 0.35em;\">\n",
       "    Lady\n",
       "    <span style=\"font-size: 0.8em; font-weight: bold; line-height: 1; border-radius: 0.35em; vertical-align: middle; margin-left: 0.5rem\">PERSON</span>\n",
       "</mark>\n",
       " . luckily , \n",
       "<mark class=\"entity\" style=\"background: #aa9cfc; padding: 0.45em 0.6em; margin: 0 0.25em; line-height: 1; border-radius: 0.35em;\">\n",
       "    Arya\n",
       "    <span style=\"font-size: 0.8em; font-weight: bold; line-height: 1; border-radius: 0.35em; vertical-align: middle; margin-left: 0.5rem\">PERSON</span>\n",
       "</mark>\n",
       " be able to set her own direwolf , \n",
       "<mark class=\"entity\" style=\"background: #feca74; padding: 0.45em 0.6em; margin: 0 0.25em; line-height: 1; border-radius: 0.35em;\">\n",
       "    Nymeria\n",
       "    <span style=\"font-size: 0.8em; font-weight: bold; line-height: 1; border-radius: 0.35em; vertical-align: middle; margin-left: 0.5rem\">GPE</span>\n",
       "</mark>\n",
       " , loose in the wild before any harm can come to she . elsewhere , \n",
       "<mark class=\"entity\" style=\"background: #7aecec; padding: 0.45em 0.6em; margin: 0 0.25em; line-height: 1; border-radius: 0.35em;\">\n",
       "    Daenerys\n",
       "    <span style=\"font-size: 0.8em; font-weight: bold; line-height: 1; border-radius: 0.35em; vertical-align: middle; margin-left: 0.5rem\">ORG</span>\n",
       "</mark>\n",
       " find a way to connect with her new husband and Bran wake up from the coma he have be in for over a month .</div></span>"
      ],
      "text/plain": [
       "<IPython.core.display.HTML object>"
      ]
     },
     "metadata": {},
     "output_type": "display_data"
    }
   ],
   "source": [
    "doc = nlp(review)\n",
    "spacy.displacy.render(doc, style='ent',jupyter=True)"
   ]
  },
  {
   "cell_type": "code",
   "execution_count": 18,
   "id": "34ebca9c",
   "metadata": {
    "tags": []
   },
   "outputs": [
    {
     "name": "stdout",
     "output_type": "stream",
     "text": [
      "although => SCONJ\n",
      "Jon => PROPN\n",
      "Snow => PROPN\n",
      "( => PUNCT\n",
      "Kit => PROPN\n",
      "Harington => PROPN\n",
      ") => PUNCT\n",
      ", => PUNCT\n",
      "who => PRON\n",
      "we => PRON\n",
      "know => VERB\n",
      "as => ADP\n",
      "the => DET\n",
      "illegitimate => ADJ\n",
      "son => NOUN\n",
      "of => ADP\n",
      "Ned => PROPN\n",
      "and => CCONJ\n",
      "a => DET\n",
      "random => ADJ\n",
      ", => PUNCT\n",
      "unknown => ADJ\n",
      "woman => NOUN\n",
      ", => PUNCT\n",
      "be => VERB\n",
      "introduce => VERB\n",
      "in => ADP\n",
      "the => DET\n",
      "pilot => NOUN\n",
      ", => PUNCT\n",
      "his => PRON\n",
      "storyline => NOUN\n",
      "do => AUX\n",
      "n’t => AUX\n",
      "really => ADV\n",
      "pick => VERB\n",
      "up => ADP\n",
      "until => ADP\n",
      "the => DET\n",
      "second => ADJ\n",
      "episode => NOUN\n",
      ". => PUNCT\n",
      "after => ADP\n",
      "gift => NOUN\n",
      "his => PRON\n",
      "half => ADJ\n",
      "- => PUNCT\n",
      "sister => NOUN\n",
      "Arya => PROPN\n",
      "( => PUNCT\n",
      "Maisie => PROPN\n",
      "Williams => PROPN\n",
      ") => PUNCT\n",
      "with => ADP\n",
      "a => DET\n",
      "small => ADJ\n",
      "sword => NOUN\n",
      "that => DET\n",
      "she => PRON\n",
      "dub => VERB\n",
      "\" => PUNCT\n",
      "Needle => PROPN\n",
      ", => PUNCT\n",
      "\" => PUNCT\n",
      "Jon => PROPN\n",
      "leave => VERB\n",
      "for => ADP\n",
      "the => DET\n",
      "Wall => PROPN\n",
      ", => PUNCT\n",
      "a => DET\n",
      "700 => NUM\n",
      "- => PUNCT\n",
      "foot => NOUN\n",
      "tall => ADJ\n",
      ", => PUNCT\n",
      "300 => NUM\n",
      "- => PUNCT\n",
      "foot => NOUN\n",
      "thick => ADJ\n",
      "barrier => NOUN\n",
      "of => ADP\n",
      "ice => NOUN\n",
      "that => DET\n",
      "span => VERB\n",
      "all => DET\n",
      "300 => NUM\n",
      "mile => NOUN\n",
      "of => ADP\n",
      "Westeros => PROPN\n",
      "’ => PART\n",
      "northern => ADJ\n",
      "border => NOUN\n",
      ", => PUNCT\n",
      "with => ADP\n",
      "his => PRON\n",
      "Uncle => PROPN\n",
      "Benjen => PROPN\n",
      "( => PUNCT\n",
      "Joseph => PROPN\n",
      "Mawle => PROPN\n",
      ") => PUNCT\n",
      "and => CCONJ\n",
      "Tyrion => PROPN\n",
      "Lannister => PROPN\n",
      "( => PUNCT\n",
      "Peter => PROPN\n",
      "Dinklage => PROPN\n",
      ") => PUNCT\n",
      ". => PUNCT\n",
      "\n",
      "\n",
      "  => SPACE\n",
      "Jon => PROPN\n",
      "intend => VERB\n",
      "to => PART\n",
      "join => VERB\n",
      "the => DET\n",
      "Night => PROPN\n",
      "’s => PART\n",
      "Watch => PROPN\n",
      ", => PUNCT\n",
      "an => DET\n",
      "order => NOUN\n",
      "of => ADP\n",
      "man => NOUN\n",
      "who => PRON\n",
      "guard => VERB\n",
      "the => DET\n",
      "Wall => PROPN\n",
      "and => CCONJ\n",
      "protect => VERB\n",
      "the => DET\n",
      "Seven => PROPN\n",
      "Kingdoms => PROPN\n",
      "from => ADP\n",
      "invader => NOUN\n",
      ". => PUNCT\n",
      "but => CCONJ\n",
      "first => ADV\n",
      ", => PUNCT\n",
      "he => PRON\n",
      "make => VERB\n",
      "one => NUM\n",
      "last => ADJ\n",
      "( => PUNCT\n",
      "unsuccessful => ADJ\n",
      ") => PUNCT\n",
      "attempt => NOUN\n",
      "to => PART\n",
      "question => VERB\n",
      "Ned => PROPN\n",
      "about => ADP\n",
      "the => DET\n",
      "identity => NOUN\n",
      "of => ADP\n",
      "his => PRON\n",
      "mother => NOUN\n",
      "ahead => ADV\n",
      "of => ADP\n",
      "Ned => PROPN\n",
      "’s => PART\n",
      "departure => NOUN\n",
      "for => ADP\n",
      "King => PROPN\n",
      "’s => PART\n",
      "Landing => PROPN\n",
      ". => PUNCT\n",
      "while => SCONJ\n",
      "travel => VERB\n",
      "south => ADV\n",
      "with => ADP\n",
      "their => PRON\n",
      "father => NOUN\n",
      ", => PUNCT\n",
      "Arya => PROPN\n",
      "and => CCONJ\n",
      "Sansa => PROPN\n",
      "Stark => PROPN\n",
      "( => PUNCT\n",
      "Sophie => PROPN\n",
      "Turner => PROPN\n",
      ") => PUNCT\n",
      "find => VERB\n",
      "themselves => PRON\n",
      "in => ADP\n",
      "the => DET\n",
      "midst => NOUN\n",
      "of => ADP\n",
      "an => DET\n",
      "altercation => NOUN\n",
      "with => ADP\n",
      "Prince => PROPN\n",
      "Joffrey => PROPN\n",
      "Baratheon => PROPN\n",
      "( => PUNCT\n",
      "Jack => PROPN\n",
      "Gleeson => PROPN\n",
      ") => PUNCT\n",
      "that => DET\n",
      "lead => VERB\n",
      "to => ADP\n",
      "the => DET\n",
      "death => NOUN\n",
      "of => ADP\n",
      "both => DET\n",
      "Arya => PROPN\n",
      "’s => PART\n",
      "friend => NOUN\n",
      "Mycah => PROPN\n",
      "( => PUNCT\n",
      "Rhodri => PROPN\n",
      "Hosking => PROPN\n",
      ") => PUNCT\n",
      ", => PUNCT\n",
      "the => DET\n",
      "butcher => NOUN\n",
      "’s => PART\n",
      "boy => NOUN\n",
      ", => PUNCT\n",
      "and => CCONJ\n",
      "Sansa => PROPN\n",
      "’s => PART\n",
      "direwolf => NOUN\n",
      ", => PUNCT\n",
      "Lady => PROPN\n",
      ". => PUNCT\n",
      "luckily => ADV\n",
      ", => PUNCT\n",
      "Arya => PROPN\n",
      "be => VERB\n",
      "able => ADJ\n",
      "to => PART\n",
      "set => VERB\n",
      "her => PRON\n",
      "own => ADJ\n",
      "direwolf => NOUN\n",
      ", => PUNCT\n",
      "Nymeria => PROPN\n",
      ", => PUNCT\n",
      "loose => ADJ\n",
      "in => ADP\n",
      "the => DET\n",
      "wild => NOUN\n",
      "before => ADP\n",
      "any => DET\n",
      "harm => NOUN\n",
      "can => AUX\n",
      "come => VERB\n",
      "to => ADP\n",
      "she => PRON\n",
      ". => PUNCT\n",
      "elsewhere => ADV\n",
      ", => PUNCT\n",
      "Daenerys => PROPN\n",
      "find => VERB\n",
      "a => DET\n",
      "way => NOUN\n",
      "to => PART\n",
      "connect => VERB\n",
      "with => ADP\n",
      "her => PRON\n",
      "new => ADJ\n",
      "husband => NOUN\n",
      "and => CCONJ\n",
      "Bran => PROPN\n",
      "wake => VERB\n",
      "up => ADP\n",
      "from => ADP\n",
      "the => DET\n",
      "coma => NOUN\n",
      "he => PRON\n",
      "have => AUX\n",
      "be => VERB\n",
      "in => ADP\n",
      "for => ADP\n",
      "over => ADP\n",
      "a => DET\n",
      "month => NOUN\n",
      ". => PUNCT\n"
     ]
    }
   ],
   "source": [
    "# POS tagging\n",
    "for i in nlp(review):\n",
    "    print(i,\"=>\",i.pos_)"
   ]
  },
  {
   "cell_type": "code",
   "execution_count": 19,
   "id": "a5b50cc9",
   "metadata": {},
   "outputs": [],
   "source": [
    "tqdm.pandas()\n",
    "tokens = spacy_tokenizer(corpus_reviews['Episode recap'][1])"
   ]
  },
  {
   "cell_type": "code",
   "execution_count": 20,
   "id": "ebaa211f",
   "metadata": {},
   "outputs": [
    {
     "data": {
      "text/plain": [
       "'jon snow kit harington know illegitimate son ned random unknown woman introduced pilot storyline pick second episode gifting half sister arya maisie williams small sword dubs “ needle ” jon leaves wall 700 foot tall 300 foot thick barrier ice spans 300 miles westeros ’ northern border uncle benjen joseph mawle tyrion lannister peter dinklage \\n\\n jon intends join night watch order men guard wall protect seven kingdoms invaders makes unsuccessful attempt question ned identity mother ahead ned departure king landing traveling south father arya sansa stark sophie turner find midst altercation prince joffrey baratheon jack gleeson leads deaths arya friend mycah rhodri hosking butcher boy sansa direwolf lady luckily arya able set direwolf nymeria loose wild harm come daenerys finds way connect new husband bran wakes coma month'"
      ]
     },
     "execution_count": 20,
     "metadata": {},
     "output_type": "execute_result"
    }
   ],
   "source": [
    "tokens"
   ]
  },
  {
   "cell_type": "code",
   "execution_count": 21,
   "id": "d2a1840c",
   "metadata": {},
   "outputs": [],
   "source": [
    "# Creating a vectorizer\n",
    "vectorizer = CountVectorizer(stop_words='english', lowercase=True, token_pattern='[a-zA-Z\\-][a-zA-Z\\-]{2,}')\n",
    "data_vectorized = vectorizer.fit_transform([tokens])"
   ]
  },
  {
   "cell_type": "code",
   "execution_count": 22,
   "id": "6fb50f99",
   "metadata": {},
   "outputs": [],
   "source": [
    "NUM_TOPICS = 10"
   ]
  },
  {
   "cell_type": "code",
   "execution_count": 23,
   "id": "4f7a3a0e",
   "metadata": {},
   "outputs": [
    {
     "name": "stdout",
     "output_type": "stream",
     "text": [
      "iteration: 1 of max_iter: 10\n",
      "iteration: 2 of max_iter: 10\n",
      "iteration: 3 of max_iter: 10\n",
      "iteration: 4 of max_iter: 10\n",
      "iteration: 5 of max_iter: 10\n",
      "iteration: 6 of max_iter: 10\n",
      "iteration: 7 of max_iter: 10\n",
      "iteration: 8 of max_iter: 10\n",
      "iteration: 9 of max_iter: 10\n",
      "iteration: 10 of max_iter: 10\n"
     ]
    }
   ],
   "source": [
    "# Latent Dirichlet Allocation Model\n",
    "lda = LatentDirichletAllocation(n_components=NUM_TOPICS, max_iter=10, learning_method='online',verbose=True)\n",
    "data_lda = lda.fit_transform(data_vectorized)"
   ]
  },
  {
   "cell_type": "code",
   "execution_count": 24,
   "id": "b4330bc2",
   "metadata": {},
   "outputs": [],
   "source": [
    "# Non-Negative Matrix Factorization Model\n",
    "nmf = NMF(n_components=NUM_TOPICS)\n",
    "data_nmf = nmf.fit_transform(data_vectorized) "
   ]
  },
  {
   "cell_type": "code",
   "execution_count": 25,
   "id": "df4d258d",
   "metadata": {},
   "outputs": [],
   "source": [
    "# Latent Semantic Indexing Model using Truncated SVD\n",
    "lsi = TruncatedSVD(n_components=NUM_TOPICS)\n",
    "data_lsi = lsi.fit_transform(data_vectorized)"
   ]
  },
  {
   "cell_type": "code",
   "execution_count": 26,
   "id": "d940f910",
   "metadata": {},
   "outputs": [],
   "source": [
    "# Functions for printing keywords for each topic\n",
    "def selected_topics(model, vectorizer, top_n=10):\n",
    "    for idx, topic in enumerate(model.components_):\n",
    "        print(\"Topic %d:\" % (idx))\n",
    "        print([(vectorizer.get_feature_names()[i], topic[i])\n",
    "                        for i in topic.argsort()[:-top_n - 1:-1]]) "
   ]
  },
  {
   "cell_type": "code",
   "execution_count": 27,
   "id": "d033afc9",
   "metadata": {},
   "outputs": [
    {
     "name": "stdout",
     "output_type": "stream",
     "text": [
      "LDA Model:\n",
      "Topic 0:\n",
      "[('know', 0.32996451215825806), ('kingdoms', 0.3234508732876145), ('sword', 0.3195542663274661), ('prince', 0.31495504807990427), ('invaders', 0.3146268228738855), ('connect', 0.30842463093997063), ('jon', 0.3073987410817163), ('baratheon', 0.3050032775729154), ('pick', 0.29936257340314276), ('sophie', 0.29707519451381664)]\n",
      "Topic 1:\n",
      "[('wall', 0.3967716801067743), ('arya', 0.38708669520936684), ('foot', 0.36842404380469723), ('illegitimate', 0.3514442709626562), ('jack', 0.3479312290786512), ('boy', 0.3472508360155583), ('random', 0.3461829524021131), ('ice', 0.3442926278189297), ('woman', 0.3405086842067669), ('snow', 0.3401154750964334)]\n",
      "Topic 2:\n",
      "[('wall', 0.3186916143557785), ('leads', 0.3107940366877808), ('jack', 0.30996237237460916), ('join', 0.3087370525782207), ('ahead', 0.30801473798107537), ('miles', 0.30611573319077995), ('month', 0.30406880031849365), ('joffrey', 0.3017828543080466), ('sophie', 0.3016511437313252), ('boy', 0.2998149067753576)]\n",
      "Topic 3:\n",
      "[('month', 0.324621502222233), ('invaders', 0.32031891497718884), ('jack', 0.3184575716428856), ('join', 0.31580594762961706), ('able', 0.31503999507107106), ('baratheon', 0.3149099947669556), ('nymeria', 0.31253093667619797), ('uncle', 0.3089082307267364), ('protect', 0.3073329020493359), ('snow', 0.3038232025839457)]\n",
      "Topic 4:\n",
      "[('tyrion', 0.3540168304176852), ('storyline', 0.34356845721867224), ('hosking', 0.32471317039243897), ('unsuccessful', 0.3223179354187394), ('benjen', 0.3092428951113188), ('baratheon', 0.30889443099452824), ('turner', 0.30721651066457917), ('seven', 0.30330166671767284), ('landing', 0.30310315875137467), ('south', 0.30155003196490054)]\n",
      "Topic 5:\n",
      "[('friend', 0.33013182435416005), ('kit', 0.32414243758368805), ('barrier', 0.32099866514137054), ('king', 0.317290602030964), ('midst', 0.3147724136160627), ('dubs', 0.31218329823816354), ('new', 0.30368719848952136), ('father', 0.30274974884823924), ('invaders', 0.30078684420504165), ('wakes', 0.29994551841821715)]\n",
      "Topic 6:\n",
      "[('ned', 0.38750166047701695), ('arya', 0.3800988294305352), ('night', 0.3592809385124734), ('leaves', 0.3562006372338597), ('jon', 0.3359344850369696), ('gifting', 0.334831647919859), ('connect', 0.3346098250506429), ('storyline', 0.33403752893572597), ('way', 0.3291515977442888), ('butcher', 0.32827249709684997)]\n",
      "Topic 7:\n",
      "[('arya', 3.2780727903182743), ('jon', 2.57143058732354), ('ned', 2.520834901111924), ('wall', 1.793346171315061), ('sansa', 1.7824684079611863), ('direwolf', 1.7821073251934398), ('foot', 1.7791255731462376), ('month', 1.0946108595930883), ('barrier', 1.0745236520887689), ('unknown', 1.0711367192790986)]\n",
      "Topic 8:\n",
      "[('protect', 0.3251898209335168), ('order', 0.31923091166481704), ('border', 0.3180352915354709), ('spans', 0.3177108422416141), ('harm', 0.3169980167854874), ('ned', 0.3163241294539105), ('husband', 0.31310735793280925), ('unknown', 0.3105766799461876), ('rhodri', 0.30997418016214573), ('join', 0.3083402315573512)]\n",
      "Topic 9:\n",
      "[('kingdoms', 0.3265969124736253), ('arya', 0.3260150944333938), ('episode', 0.32496163667526523), ('foot', 0.3245067205221838), ('joseph', 0.32279827317302656), ('sister', 0.32185023353854575), ('tyrion', 0.31986013515313605), ('guard', 0.3182294682747217), ('ned', 0.3158861684625585), ('intends', 0.31549298896315336)]\n"
     ]
    }
   ],
   "source": [
    "# Keywords for topics clustered by Latent Dirichlet Allocation\n",
    "print(\"LDA Model:\")\n",
    "selected_topics(lda, vectorizer)"
   ]
  },
  {
   "cell_type": "code",
   "execution_count": 28,
   "id": "3b9313ba",
   "metadata": {},
   "outputs": [
    {
     "name": "stdout",
     "output_type": "stream",
     "text": [
      "NMF Model:\n",
      "Topic 0:\n",
      "[('arya', 1.5784119884114536), ('ned', 1.4771217861737826), ('jon', 1.3610094121659495), ('sansa', 0.7380849974508651), ('foot', 0.7214838734464727), ('direwolf', 0.6796656419079941), ('wall', 0.638398406562371), ('butcher', 0.42024647527111114), ('luckily', 0.41273455573016987), ('storyline', 0.41091004950464005)]\n",
      "Topic 1:\n",
      "[('daenerys', 0.7552513750257647), ('random', 0.7308399799467883), ('protect', 0.707708795389756), ('lady', 0.6998632139446398), ('landing', 0.6789466245087998), ('sword', 0.6316656864931232), ('nymeria', 0.6165856499876812), ('deaths', 0.6125604848517888), ('sister', 0.577101493180137), ('attempt', 0.5743045615556722)]\n",
      "Topic 2:\n",
      "[('coma', 0.9522333664549272), ('night', 0.8173886269475857), ('king', 0.7142191680671534), ('ice', 0.7127940654824797), ('able', 0.6690417117653791), ('foot', 0.6673975071746274), ('midst', 0.6588910717001462), ('dubs', 0.6271865838227952), ('northern', 0.6264767911482906), ('harm', 0.6186860908400459)]\n",
      "Topic 3:\n",
      "[('mycah', 0.9758676229360642), ('episode', 0.9267204963011775), ('wild', 0.8562775550966573), ('arya', 0.7969246068692536), ('gifting', 0.6979801086610615), ('dubs', 0.662715502481182), ('nymeria', 0.6187358563991208), ('peter', 0.586920221046698), ('direwolf', 0.57882237652974), ('kit', 0.5784896754468397)]\n",
      "Topic 4:\n",
      "[('husband', 0.9455774296145483), ('friend', 0.8826402208841299), ('mother', 0.6962355229285493), ('month', 0.603485822293447), ('seven', 0.5716392685228419), ('son', 0.5617697998119924), ('way', 0.5539115445041972), ('dinklage', 0.5160342161078524), ('set', 0.507031535786998), ('peter', 0.4732787477734944)]\n",
      "Topic 5:\n",
      "[('tall', 0.851211307039173), ('mawle', 0.7738092932575527), ('month', 0.7557216627784207), ('introduced', 0.7489365313098932), ('makes', 0.6954033060547357), ('turner', 0.6583488470978427), ('sword', 0.6420111166998382), ('boy', 0.6351018254114333), ('northern', 0.6325364379603701), ('wall', 0.5747172634293706)]\n",
      "Topic 6:\n",
      "[('tall', 1.0264347043026993), ('ahead', 0.6928252472998331), ('prince', 0.6413272276842248), ('ice', 0.6389776188362484), ('pilot', 0.6254477936007803), ('father', 0.5938843992412078), ('needle', 0.559973198413843), ('night', 0.5472987580738181), ('son', 0.5424482819292885), ('direwolf', 0.540806225612889)]\n",
      "Topic 7:\n",
      "[('midst', 0.83154603264384), ('nymeria', 0.6880063040555556), ('father', 0.6850702773535187), ('spans', 0.6611166302914172), ('month', 0.641464383954085), ('order', 0.6315783267756002), ('random', 0.5921124790878868), ('unknown', 0.584899971785807), ('boy', 0.5524983920902421), ('guard', 0.534947616550427)]\n",
      "Topic 8:\n",
      "[('order', 0.9089873105477256), ('protect', 0.7356472181169316), ('arya', 0.6719158932668502), ('sansa', 0.6096684683207886), ('direwolf', 0.5890353422820961), ('spans', 0.5845567094117352), ('watch', 0.5829415601831263), ('nymeria', 0.5582496628430063), ('makes', 0.5522896836649885), ('connect', 0.5359023772409305)]\n",
      "Topic 9:\n",
      "[('boy', 0.8778323113303511), ('peter', 0.8318671792800876), ('attempt', 0.7969649466060008), ('sword', 0.6960183750791564), ('new', 0.67065533478413), ('rhodri', 0.6587275164947212), ('miles', 0.6429113081833326), ('tyrion', 0.5973893248999567), ('gleeson', 0.5724324545858023), ('random', 0.5415367889768711)]\n"
     ]
    }
   ],
   "source": [
    "# Keywords for topics clustered by Latent Semantic Indexing\n",
    "print(\"NMF Model:\")\n",
    "selected_topics(nmf, vectorizer)"
   ]
  },
  {
   "cell_type": "code",
   "execution_count": 29,
   "id": "e830315d",
   "metadata": {},
   "outputs": [
    {
     "name": "stdout",
     "output_type": "stream",
     "text": [
      "LSI Model:\n",
      "Topic 0:\n",
      "[('arya', 0.3244428422615251), ('ned', 0.2433321316961438), ('jon', 0.2433321316961438), ('wall', 0.16222142113076254), ('foot', 0.16222142113076254), ('direwolf', 0.16222142113076254), ('sansa', 0.16222142113076254), ('kit', 0.08111071056538127), ('illegitimate', 0.08111071056538127), ('half', 0.08111071056538127)]\n"
     ]
    }
   ],
   "source": [
    "# Keywords for topics clustered by Non-Negative Matrix Factorization\n",
    "print(\"LSI Model:\")\n",
    "selected_topics(lsi, vectorizer)"
   ]
  },
  {
   "cell_type": "code",
   "execution_count": 30,
   "id": "8ea083b1",
   "metadata": {},
   "outputs": [
    {
     "name": "stdout",
     "output_type": "stream",
     "text": [
      "[0.03333429 0.03333531 0.03333412 0.03333423 0.03333467 0.03333475\n",
      " 0.03333539 0.69998814 0.0333346  0.03333449]\n"
     ]
    }
   ],
   "source": [
    "# Transforming an individual sentence\n",
    "text = spacy_tokenizer(\"Arya Stark.\")\n",
    "x = lda.transform(vectorizer.transform([text]))[0]\n",
    "print(x)"
   ]
  },
  {
   "cell_type": "code",
   "execution_count": 31,
   "id": "5fe79a0e",
   "metadata": {},
   "outputs": [
    {
     "name": "stderr",
     "output_type": "stream",
     "text": [
      "/Users/andreea/miniconda3/envs/tfm/lib/python3.9/site-packages/past/builtins/misc.py:45: DeprecationWarning: the imp module is deprecated in favour of importlib; see the module's documentation for alternative uses\n",
      "  from imp import reload\n",
      "/Users/andreea/miniconda3/envs/tfm/lib/python3.9/site-packages/past/builtins/misc.py:45: DeprecationWarning: the imp module is deprecated in favour of importlib; see the module's documentation for alternative uses\n",
      "  from imp import reload\n",
      "/Users/andreea/miniconda3/envs/tfm/lib/python3.9/site-packages/past/builtins/misc.py:45: DeprecationWarning: the imp module is deprecated in favour of importlib; see the module's documentation for alternative uses\n",
      "  from imp import reload\n",
      "/Users/andreea/miniconda3/envs/tfm/lib/python3.9/site-packages/past/builtins/misc.py:45: DeprecationWarning: the imp module is deprecated in favour of importlib; see the module's documentation for alternative uses\n",
      "  from imp import reload\n",
      "/Users/andreea/miniconda3/envs/tfm/lib/python3.9/site-packages/past/builtins/misc.py:45: DeprecationWarning: the imp module is deprecated in favour of importlib; see the module's documentation for alternative uses\n",
      "  from imp import reload\n",
      "/Users/andreea/miniconda3/envs/tfm/lib/python3.9/site-packages/past/builtins/misc.py:45: DeprecationWarning: the imp module is deprecated in favour of importlib; see the module's documentation for alternative uses\n",
      "  from imp import reload\n"
     ]
    }
   ],
   "source": [
    "pyLDAvis.enable_notebook()\n",
    "dash = pyLDAvis.sklearn.prepare(lda, data_vectorized, vectorizer, mds='tsne')\n",
    "#dash"
   ]
  },
  {
   "cell_type": "code",
   "execution_count": 32,
   "id": "5c7ebfe6",
   "metadata": {},
   "outputs": [
    {
     "data": {
      "text/plain": [
       "'Although Jon Snow (Kit Harington), who we know as the illegitimate son of Ned and a random, unknown woman, was introduced in the pilot, his storyline doesn’t really pick up until the second episode. After gifting his half-sister Arya (Maisie Williams) with a small sword that she dubs “Needle,” Jon leaves for the Wall, a 700-foot tall, 300-foot thick barrier of ice that spans all 300 miles of Westeros’ northern border, with his Uncle Benjen (Joseph Mawle) and Tyrion Lannister (Peter Dinklage).\\n\\nJon intends to join the Night’s Watch, an order of men who guard the Wall and protect the Seven Kingdoms from invaders. But first, he makes one last (unsuccessful) attempt to question Ned about the identity of his mother ahead of Ned’s departure for King’s Landing.While traveling south with their father, Arya and Sansa Stark (Sophie Turner) find themselves in the midst of an altercation with Prince Joffrey Baratheon (Jack Gleeson) that leads to the deaths of both Arya’s friend Mycah (Rhodri Hosking), the butcher’s boy, and Sansa’s direwolf, Lady. Luckily, Arya is able to set her own direwolf, Nymeria, loose in the wild before any harm can come to her. Elsewhere, Daenerys finds a way to connect with her new husband and Bran wakes up from the coma he has been in for over a month.'"
      ]
     },
     "execution_count": 32,
     "metadata": {},
     "output_type": "execute_result"
    }
   ],
   "source": [
    "corpus_reviews['Episode recap'][1]"
   ]
  },
  {
   "cell_type": "code",
   "execution_count": 33,
   "id": "f34d6412",
   "metadata": {},
   "outputs": [
    {
     "name": "stdout",
     "output_type": "stream",
     "text": [
      "Requirement already satisfied: sentencepiece in /Users/andreea/miniconda3/lib/python3.9/site-packages (0.1.96)\n"
     ]
    }
   ],
   "source": [
    "!pip install sentencepiece"
   ]
  },
  {
   "cell_type": "code",
   "execution_count": 34,
   "id": "f65aa679",
   "metadata": {},
   "outputs": [],
   "source": [
    "#get_summary(corpus_reviews['Episode recap'][1])"
   ]
  },
  {
   "cell_type": "code",
   "execution_count": 35,
   "id": "0dd2c4d7",
   "metadata": {},
   "outputs": [],
   "source": [
    "#corpus_reviews['Episode recap'][2]"
   ]
  },
  {
   "cell_type": "code",
   "execution_count": 36,
   "id": "5b90cdb5",
   "metadata": {},
   "outputs": [],
   "source": [
    "#corpus_reviews['Episode recap'][71]"
   ]
  },
  {
   "cell_type": "code",
   "execution_count": 37,
   "id": "c7bb67bd",
   "metadata": {},
   "outputs": [],
   "source": [
    "#get_summary(corpus_reviews['Episode recap'][2])"
   ]
  },
  {
   "cell_type": "code",
   "execution_count": 38,
   "id": "bf490c70",
   "metadata": {},
   "outputs": [],
   "source": [
    "#get_summary(corpus_reviews['Episode recap'][2], \"sshleifer/distilbart-xsum-12-3\")"
   ]
  },
  {
   "cell_type": "code",
   "execution_count": 39,
   "id": "aba4e8b4",
   "metadata": {},
   "outputs": [],
   "source": [
    "#get_summary(corpus_reviews['Episode recap'][2], \"google/pegasus-xsum\")"
   ]
  },
  {
   "cell_type": "markdown",
   "id": "9ba6d18a",
   "metadata": {},
   "source": [
    "### Usando script sin nombres "
   ]
  },
  {
   "cell_type": "code",
   "execution_count": 40,
   "id": "bb11801e",
   "metadata": {},
   "outputs": [],
   "source": [
    "#get_summary(s1_ep2)"
   ]
  },
  {
   "cell_type": "markdown",
   "id": "d059a59d",
   "metadata": {},
   "source": [
    "### Usando script con nombres"
   ]
  },
  {
   "cell_type": "code",
   "execution_count": 41,
   "id": "16260f3e",
   "metadata": {},
   "outputs": [],
   "source": [
    "#get_summary(s1_ep2_names)"
   ]
  },
  {
   "cell_type": "code",
   "execution_count": 42,
   "id": "4c42fa89",
   "metadata": {},
   "outputs": [],
   "source": [
    "#get_summary(corpus_reviews['Episode recap'][3], \"hyunwoongko/ctrlsum-cnndm\")"
   ]
  },
  {
   "cell_type": "markdown",
   "id": "e8e76add",
   "metadata": {},
   "source": [
    "## **Pruebas con el sentence similarity**\n",
    "https://towardsdatascience.com/bert-for-measuring-text-similarity-eec91c6bf9e1"
   ]
  },
  {
   "cell_type": "code",
   "execution_count": 43,
   "id": "4ec1fe42",
   "metadata": {},
   "outputs": [],
   "source": [
    "#Mean Pooling - Take attention mask into account for correct averaging\n",
    "def mean_pooling(model_output, attention_mask):\n",
    "    '''\n",
    "    '''\n",
    "    token_embeddings = model_output[0] #First element of model_output contains all token embeddings, or the last_hidden_state\n",
    "    input_mask_expanded = attention_mask.unsqueeze(-1).expand(token_embeddings.size()).float()\n",
    "    return torch.sum(token_embeddings * input_mask_expanded, 1) / torch.clamp(input_mask_expanded.sum(1), min=1e-9)\n",
    "\n",
    "def get_sentence_embeddings(input_data, model_name='sentence-transformers/paraphrase-mpnet-base-v2'):\n",
    "    '''\n",
    "    '''\n",
    "    tokenizer = AutoTokenizer.from_pretrained(model_name)\n",
    "    model = AutoModel.from_pretrained(model_name)\n",
    "\n",
    "    encoded_input = tokenizer(input_data, padding=True, truncation=True, return_tensors='pt')\n",
    "\n",
    "    # Compute token embeddings\n",
    "    with torch.no_grad():\n",
    "        model_output = model(**encoded_input)\n",
    "        \n",
    "    # Perform pooling. In this case, max pooling.\n",
    "    sentence_embeddings = mean_pooling(model_output, encoded_input['attention_mask'])\n",
    "\n",
    "    return sentence_embeddings.detach().numpy()\n",
    "\n",
    "def get_similar_sentences(sentence, other_sentences, similarity_threshold=0.7):\n",
    "    '''\n",
    "    '''\n",
    "    sims = cosine_similarity(sentence, other_sentences)\n",
    "    return np.where(sims.reshape(-1) >= similarity_threshold)[0]"
   ]
  },
  {
   "cell_type": "markdown",
   "id": "d9c3ab36",
   "metadata": {},
   "source": [
    "## Con corpus de scripts"
   ]
  },
  {
   "cell_type": "code",
   "execution_count": 44,
   "id": "d8748462",
   "metadata": {},
   "outputs": [
    {
     "name": "stderr",
     "output_type": "stream",
     "text": [
      "Loading cached processed dataset at /Users/andreea/.cache/huggingface/datasets/csv/default-6267e762714f0fd0/0.0.0/9144e0a4e8435090117cea53e6c7537173ef2304525df4a077c435d8ee7828ff/cache-05842c71d6ab9f3e.arrow\n",
      "Loading cached processed dataset at /Users/andreea/.cache/huggingface/datasets/csv/default-6267e762714f0fd0/0.0.0/9144e0a4e8435090117cea53e6c7537173ef2304525df4a077c435d8ee7828ff/cache-80a1cce4dbd0b731.arrow\n"
     ]
    }
   ],
   "source": [
    "# convert from PyTorch tensor to numpy array\n",
    "sentences = get_script_episode(corpus, 'Season 1', 'Episode 2')['Sentence']\n",
    "embedded_script = get_sentence_embeddings(sentences)"
   ]
  },
  {
   "cell_type": "code",
   "execution_count": 45,
   "id": "c0507d7e",
   "metadata": {},
   "outputs": [],
   "source": [
    "from sklearn.metrics.pairwise import cosine_similarity\n",
    "# calculate\n",
    "idx_sentence = 26\n",
    "similar_sentences = get_similar_sentences([embedded_script[idx_sentence]], embedded_script)"
   ]
  },
  {
   "cell_type": "code",
   "execution_count": 46,
   "id": "e21f1a54",
   "metadata": {},
   "outputs": [
    {
     "data": {
      "text/plain": [
       "'Is Bran going to die?'"
      ]
     },
     "execution_count": 46,
     "metadata": {},
     "output_type": "execute_result"
    }
   ],
   "source": [
    "sentences[idx_sentence]"
   ]
  },
  {
   "cell_type": "code",
   "execution_count": 47,
   "id": "7e8bd5ce",
   "metadata": {},
   "outputs": [
    {
     "name": "stdout",
     "output_type": "stream",
     "text": [
      "Is Bran going to die?\n",
      "You've said goodbye to Bran? He's not going to die. I know it.\n",
      "What if he's wrong? Bran needs me.\n"
     ]
    }
   ],
   "source": [
    "for idx in similar_sentences:\n",
    "    print(sentences[idx])"
   ]
  },
  {
   "cell_type": "code",
   "execution_count": 48,
   "id": "1312f154",
   "metadata": {},
   "outputs": [],
   "source": [
    "similar_sentences = get_similar_sentences(get_sentence_embeddings(\"Is Bran not going to be alive anymore?\"), embedded_script)"
   ]
  },
  {
   "cell_type": "code",
   "execution_count": 49,
   "id": "97ceac4f",
   "metadata": {},
   "outputs": [
    {
     "name": "stdout",
     "output_type": "stream",
     "text": [
      "Is Bran going to die?\n",
      "You've said goodbye to Bran? He's not going to die. I know it.\n"
     ]
    }
   ],
   "source": [
    "for idx in similar_sentences:\n",
    "    print(sentences[idx])"
   ]
  },
  {
   "cell_type": "code",
   "execution_count": 50,
   "id": "124c40f9",
   "metadata": {},
   "outputs": [
    {
     "name": "stdout",
     "output_type": "stream",
     "text": [
      "Is Bran going to die?\n",
      "I came to say goodbye to Bran.\n",
      "You've said goodbye to Bran? He's not going to die. I know it.\n",
      "What if he's wrong? Bran needs me.\n",
      "What I am about to tell you must remain between us. I don't think Bran fell from that tower. I think he was thrown.\n",
      "What about Bran?\n",
      "I have prayed to the Seven for more than a month. Bran's life is in their hands now.\n"
     ]
    }
   ],
   "source": [
    "similar_sentences = get_similar_sentences(get_sentence_embeddings(\"Bran\"), embedded_script, similarity_threshold=0.3)\n",
    "\n",
    "for idx in similar_sentences:\n",
    "    print(sentences[idx])"
   ]
  },
  {
   "cell_type": "code",
   "execution_count": 53,
   "id": "8f3fbc85",
   "metadata": {},
   "outputs": [
    {
     "name": "stdout",
     "output_type": "stream",
     "text": [
      " Is Bran going to die? I came to say goodbye to Bran. You've said goodbye to Bran? He's not going to die. I know it. What if he's wrong? Bran needs me. What I am about to tell you must remain between us. I don't think Bran fell from that tower. I think he was thrown. What about Bran? I have prayed to the Seven for more than a month. Bran's life is in their hands now.\n"
     ]
    }
   ],
   "source": [
    "filtered_text = \"\"\n",
    "for idx in similar_sentences:\n",
    "    filtered_text = filtered_text + \" \" + sentences[idx]\n",
    "print(filtered_text)"
   ]
  },
  {
   "cell_type": "code",
   "execution_count": 54,
   "id": "d6da5641",
   "metadata": {},
   "outputs": [
    {
     "data": {
      "text/plain": [
       "[\" Is Bran going to die? I came to say goodbye to Bran? I don't think Bran fell from that tower. I think he was thrown. Bran needs me. What I am about to tell you must remain between us. I have prayed to the Seven for more than a month. Bran's life is in their hands now.\"]"
      ]
     },
     "execution_count": 54,
     "metadata": {},
     "output_type": "execute_result"
    }
   ],
   "source": [
    "get_summary(filtered_text)"
   ]
  },
  {
   "cell_type": "code",
   "execution_count": 56,
   "id": "4d2b5d1d",
   "metadata": {},
   "outputs": [
    {
     "data": {
      "text/plain": [
       "[\"You've said goodbye to Bran.\"]"
      ]
     },
     "execution_count": 56,
     "metadata": {},
     "output_type": "execute_result"
    }
   ],
   "source": [
    "get_summary(filtered_text, \"google/pegasus-xsum\")"
   ]
  },
  {
   "cell_type": "code",
   "execution_count": 57,
   "id": "a51d3f53",
   "metadata": {},
   "outputs": [
    {
     "data": {
      "text/plain": [
       "[' Is Bran going to die?']"
      ]
     },
     "execution_count": 57,
     "metadata": {},
     "output_type": "execute_result"
    }
   ],
   "source": [
    "get_summary(filtered_text, \"hyunwoongko/ctrlsum-cnndm\")"
   ]
  },
  {
   "cell_type": "markdown",
   "id": "bb5b3053",
   "metadata": {},
   "source": [
    "## Con corpus de Reviews"
   ]
  },
  {
   "cell_type": "code",
   "execution_count": 101,
   "id": "68b9489a",
   "metadata": {},
   "outputs": [],
   "source": [
    "sentences = corpus_reviews['Episode recap'][30].split('.')\n",
    "embedded_script_2 = get_sentence_embeddings(sentences)"
   ]
  },
  {
   "cell_type": "code",
   "execution_count": 102,
   "id": "07c59463",
   "metadata": {},
   "outputs": [],
   "source": [
    "similar_sentences = get_similar_sentences(get_sentence_embeddings(\"Bran\"), embedded_script_2, similarity_threshold=0.3)"
   ]
  },
  {
   "cell_type": "code",
   "execution_count": 103,
   "id": "088168fa",
   "metadata": {},
   "outputs": [
    {
     "name": "stdout",
     "output_type": "stream",
     "text": [
      "\n",
      "\n",
      "Meanwhile, Bran is struggling with the increasingly blurred lines between his own mind and that of his direwolf, Summer, as he continues to test out his warging abilities\n",
      " When the group happens upon a weirwood tree, Bran places his hand on its trunk and experiences a series of rapid-fire visions — including glimpses of the three-eyed raven, his father, a snowy Iron Throne in the remains of the Red Keep’s ruined throne room, the fall that paralyzed him, the shadow of a dragon flying over King’s Landing, and a giant weirwood tree — and hears a male voice say, “Look for me, beneath the tree\n",
      "”When Bran comes out of his trance, he tells the rest of the group that he knows where they have to go\n"
     ]
    }
   ],
   "source": [
    "for idx in similar_sentences:\n",
    "    print(sentences[idx])"
   ]
  },
  {
   "cell_type": "code",
   "execution_count": 104,
   "id": "7cd21638",
   "metadata": {},
   "outputs": [
    {
     "name": "stdout",
     "output_type": "stream",
     "text": [
      " \n",
      "\n",
      "Meanwhile, Bran is struggling with the increasingly blurred lines between his own mind and that of his direwolf, Summer, as he continues to test out his warging abilities  When the group happens upon a weirwood tree, Bran places his hand on its trunk and experiences a series of rapid-fire visions — including glimpses of the three-eyed raven, his father, a snowy Iron Throne in the remains of the Red Keep’s ruined throne room, the fall that paralyzed him, the shadow of a dragon flying over King’s Landing, and a giant weirwood tree — and hears a male voice say, “Look for me, beneath the tree ”When Bran comes out of his trance, he tells the rest of the group that he knows where they have to go\n"
     ]
    }
   ],
   "source": [
    "filtered_text = \"\"\n",
    "for idx in similar_sentences:\n",
    "    filtered_text = filtered_text + \" \" + sentences[idx]\n",
    "print(filtered_text)"
   ]
  },
  {
   "cell_type": "code",
   "execution_count": 105,
   "id": "116ad024",
   "metadata": {},
   "outputs": [
    {
     "data": {
      "text/plain": [
       "[' Bran is struggling with the increasingly blurred lines between his own mind and that of his direwolf, Summer, as he continues to test out his warging abilities. When the group happens upon a weirwood tree, Bran places his hand on its trunk and experiences rapid-fire visions. Bran hears a male voice say, “Look for me, beneath the tree ”']"
      ]
     },
     "execution_count": 105,
     "metadata": {},
     "output_type": "execute_result"
    }
   ],
   "source": [
    "get_summary(filtered_text)"
   ]
  },
  {
   "cell_type": "code",
   "execution_count": 107,
   "id": "24626795",
   "metadata": {},
   "outputs": [
    {
     "data": {
      "text/plain": [
       "['In the fifth episode of Game of Thrones’ sixth season, Bran and the Brotherhood Without Banners are sent on a mission to find the three-eyed raven.']"
      ]
     },
     "execution_count": 107,
     "metadata": {},
     "output_type": "execute_result"
    }
   ],
   "source": [
    "get_summary(filtered_text, \"google/pegasus-xsum\")"
   ]
  }
 ],
 "metadata": {
  "kernelspec": {
   "display_name": "tfm",
   "language": "python",
   "name": "tfm"
  },
  "language_info": {
   "codemirror_mode": {
    "name": "ipython",
    "version": 3
   },
   "file_extension": ".py",
   "mimetype": "text/x-python",
   "name": "python",
   "nbconvert_exporter": "python",
   "pygments_lexer": "ipython3",
   "version": "3.9.6"
  }
 },
 "nbformat": 4,
 "nbformat_minor": 5
}
